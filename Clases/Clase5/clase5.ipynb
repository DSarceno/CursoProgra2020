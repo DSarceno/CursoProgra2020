{
  "nbformat": 4,
  "nbformat_minor": 0,
  "metadata": {
    "colab": {
      "name": "Clase5.ipynb",
      "provenance": [],
      "collapsed_sections": [],
      "authorship_tag": "ABX9TyPdVE4g+zLI15ZQtGx8Sjea",
      "include_colab_link": true
    },
    "kernelspec": {
      "name": "python3",
      "display_name": "Python 3"
    }
  },
  "cells": [
    {
      "cell_type": "markdown",
      "metadata": {
        "id": "view-in-github",
        "colab_type": "text"
      },
      "source": [
        "<a href=\"https://colab.research.google.com/github/DSarceno/CursoProgra2020/blob/master/Clase5.ipynb\" target=\"_parent\"><img src=\"https://colab.research.google.com/assets/colab-badge.svg\" alt=\"Open In Colab\"/></a>"
      ]
    },
    {
      "cell_type": "markdown",
      "metadata": {
        "id": "ezcN6w37L3f4"
      },
      "source": [
        "# **Clase 5**: Decisiones 2\n",
        "\n",
        "Por: José Alfredo de León"
      ]
    },
    {
      "cell_type": "markdown",
      "metadata": {
        "id": "VIlL-o3yE0Ys"
      },
      "source": [
        "## Plan para hoy: \n",
        "\n",
        "\n",
        "1.   Algoritmo de Eratóstenes\n",
        "2.   Cálculos sobre una lista de vectores de distintas dimensiones.\n",
        "\n"
      ]
    },
    {
      "cell_type": "markdown",
      "metadata": {
        "id": "4fU-E6BHqUUV"
      },
      "source": [
        "# **Introducción**\n",
        "\n",
        "La clase pasada se introdujo el bloque *if-else* y se revisaron algunas implementaciones sencillas en las que se hace necesario el uso de este bloque. En esta clase vamos a revisar 3 ejemplos más avanzados en los que podríamos utilizar el bloque *if-else*. \n",
        "\n",
        "### **1. Algoritmo de Eratóstenes** \n",
        "Algoritmo para encontrar todos los números primos menores que un número natural $n$. [Ver animación del algoritmo.](https://es.wikipedia.org/wiki/Criba_de_Erat%C3%B3stenes#/media/Archivo:Sieve_of_Eratosthenes_animation.gif)\n",
        "\n",
        "1.   Hacer una lista con los números del 2 hasta $n$.\n",
        "2.   El primer elemento en la lista sin marcar se toma como un número primo.\n",
        "3.   Se tachan todos los números que son múltiplo del número que se acaba de determinar como primo.\n",
        "4.   Si el cuadrado del primer número que no ha rayado ni marcado es inferior a $n$, entonces se repite el segundo paso. Si no, el algoritmo termina, y todos los enteros no tachados son declarados primos.\n",
        "\n",
        "Un aspecto importante a considerar cuando uno hace uso de la programación como herramienta para cumplir un objetivo es saber optimizar el tiempo de trabajo, ¿cómo así? **Se debe definir el objetivo del programa a relizar y el código se debe escribir en función de cumplir con ese objetivo.** Es decir, el código se hace tan sofisticado como sea necesario. Hay que evitar caer en el ciclo de intentar mejorar infinitamente el código. \n",
        "\n",
        "\"*... pero, ¿y si el código lo podría reciclar en el futuro y podría sí necesitar un programa muy sofisticado para cosas bien pesadas?*\", podría preguntarse alguien. En ese caso, se mantiene lo dicho antes, pero se hace fundamental aplicar **buenas prácticas de programación** para que el código sea limpio y fácil de entender, para poder mejorar el código y hacer una nueva versión cuando sea necesario. "
      ]
    },
    {
      "cell_type": "code",
      "metadata": {
        "id": "s2XBLmDS5wve",
        "colab": {
          "base_uri": "https://localhost:8080/"
        },
        "outputId": "63a8779a-3d11-4fa6-c81c-20efd9499021"
      },
      "source": [
        "import math as m                                              # math functions\n",
        "\n",
        "n = 10                                                        # max number in list\n",
        "\n",
        "# 1. Make a list from 2 to n \n",
        "primes = list(range(2,n+1))\n",
        "\n",
        "# 2. Erathosthene's algorithm \n",
        "for possiblePrime in range(2, int(m.sqrt(n))):                                                                   # numbers to evaluate its multiples\n",
        "  if possiblePrime in primes:                                                                                    # to evaluate possible primes that are still in 'primes'\n",
        "    for possibleMult in range(2, n+1):                                                                           # numbers to evaluate the multiples\n",
        "      if (not (possibleMult % possiblePrime)) and (possibleMult in primes) and (possibleMult != possiblePrime):  # 1. Remainder of i/possiblePrime = 0 2.  possibleMult still in 'primes' 3. possibleMult isn't possiblePrime\n",
        "        primes.remove(possibleMult)\n",
        "\n",
        "print(primes)"
      ],
      "execution_count": null,
      "outputs": [
        {
          "output_type": "stream",
          "text": [
            "[2, 3, 5, 7, 9]\n"
          ],
          "name": "stdout"
        }
      ]
    },
    {
      "cell_type": "code",
      "metadata": {
        "id": "y-6O95pkyZHf",
        "colab": {
          "base_uri": "https://localhost:8080/"
        },
        "outputId": "5ca9635b-2da0-4f90-d0c6-a12eda238d06"
      },
      "source": [
        "import math as m                                              # math functions\n",
        "\n",
        "n = 35                                                        # max number in list\n",
        "\n",
        "# 1. Make a list from 2 to n \n",
        "primes = list(range(2,n+1))\n",
        "\n",
        "# 2. Erathosthene's algorithm \n",
        "for possiblePrime in range(2, m.ceil(m.sqrt(n))):                    # numbers to evaluate its multiples\n",
        "  if possiblePrime in primes:                                        # to evaluate possible primes that are still in 'primes'\n",
        "    for possibleMult in primes[primes.index(possiblePrime)+1:]:      # only evaluate possible multiples among the actual remaining possible multiples\n",
        "      if (not (possibleMult % possiblePrime)):                       # Remainder of i/possiblePrime = 0 \n",
        "        primes.remove(possibleMult)\n",
        "\n",
        "print(primes)"
      ],
      "execution_count": null,
      "outputs": [
        {
          "output_type": "stream",
          "text": [
            "[2, 3, 5, 7, 11, 13, 17, 19, 23, 29, 31]\n"
          ],
          "name": "stdout"
        }
      ]
    },
    {
      "cell_type": "markdown",
      "metadata": {
        "id": "9qdiJd5Rrlt0"
      },
      "source": [
        "## **2. Vectores**\n",
        "\n",
        "Nos dan una lista de vectores y se nos pide encontrar la norma cuadrada de cada vector. Debemos tomar en cuenta que la lista \n"
      ]
    },
    {
      "cell_type": "markdown",
      "metadata": {
        "id": "yk0WkZ_iDprW"
      },
      "source": [
        "El código de abajo genera aleatoriamente (obedeciendo una distribución gaussiana) una lista con vectores de 2, 3 y 4 dimensiones. Esto simulará la \n",
        "inhomegeneidad que pueden tener los datos que uno va a manipular, además que es un buen ejemplo para exponer el uso de *elif*."
      ]
    },
    {
      "cell_type": "code",
      "metadata": {
        "id": "gzfRt9fbs0S3",
        "colab": {
          "base_uri": "https://localhost:8080/"
        },
        "outputId": "3b314583-6a06-497e-e8a8-21b55e24ccbf"
      },
      "source": [
        "from random import random\n",
        "\n",
        "b = []\n",
        "\n",
        "for i in range(100):\n",
        "  if 0.1 < random() < 0.5:\n",
        "    if random() > 0.1:\n",
        "      b.append([100*random(),100*random()])\n",
        "    else: \n",
        "      b.append([])\n",
        "  elif random() < 0.1:\n",
        "    if random() > 0.1:\n",
        "      b.append([10*random(), 10*random(), 10*random()])\n",
        "    else: \n",
        "      b.append([])\n",
        "  elif random() > 0.5:\n",
        "    if random() > 0.1:\n",
        "      b.append([10*random(), 10*random(), 10*random(), 10*random()])\n",
        "    else: \n",
        "      b.append([])\n",
        "  \n",
        "\n",
        "print(b)"
      ],
      "execution_count": null,
      "outputs": [
        {
          "output_type": "stream",
          "text": [
            "[[3.202098462867762, 8.408191170629278, 2.970320569152464, 6.829858038027085], [7.186940687220858, 7.479844892181938, 3.5063593343526502, 5.818774539783807], [6.601725565230234, 0.8643210351202801, 4.786720414763364, 0.23605265133179398], [29.363085692926916, 56.20219877016527], [8.893860751922059, 3.70874947248094, 1.7163996039494556, 8.604514605037865], [19.150031178700424, 4.910905018333778], [7.8707487941609635, 8.490422467613037, 3.168871540672785, 2.6627261716587167], [0.9524835697245293, 0.5177900774762512, 2.46172484420378], [3.528847148563976, 2.8445517668170526, 7.9805943350241995, 5.873945597221085], [6.405067026690954, 2.204792394340631, 0.3179827457104645, 0.09049178005273162], [6.868893267419017, 5.9719578209996405, 6.232169183600701], [73.44018141570265, 42.993422122249825], [94.35943290588263, 22.74422068408232], [75.16104825543324, 10.815627227810054], [3.8647842228313967, 68.95860222328135], [83.8556774111104, 80.52889757286555], [3.1684793512865985, 0.28716584694641556, 7.665464309494911, 0.9514333059474223], [59.295279313979364, 39.378988990955854], [9.198534909257928, 7.547877551340064, 3.2884372888397517, 2.0152000512977097], [0.7901854674016351, 3.7174133069133264, 3.3709677985618414], [3.5217550055103186, 8.311776709487196, 6.809090643612961], [], [3.832716938317682, 9.729048254157558, 3.8938333024171454], [72.32097662066128, 67.76337303989003], [56.17116226907765, 84.29747580598942], [], [6.012080631733829, 1.1542623679543806, 6.497586717655071, 4.0307416566055085], [14.387466186874565, 47.04079462100541], [5.504674770685483, 8.059071698626916, 7.290741179152374, 5.769538093306589], [82.73373316939728, 26.1438378200334], [85.33652623500923, 19.550221408522106], [3.0858389231962158, 7.572169869415244, 4.206138144393349, 8.073803146153848], [9.708903084342491, 7.355883489068033, 0.9777302292735701, 6.636607598503277], [6.415501543681849, 9.700103444527958, 7.475402203399671, 6.971386148566149], [36.16365841774771, 25.518703552438605], [58.72248774340561, 5.636718265604523], [87.88749361250292, 22.987541501761555], [4.679343140489641, 9.695127090926135, 5.56190287482424], [64.75893804019755, 5.286217973272189], [], [8.260146896248333, 1.9319402520242202, 6.654209269067643, 2.1895001716582208], [17.99434322059018, 58.669940191473636], [32.39981314844531, 55.5021839359408], [37.31434936433341, 26.32026421153534], [76.04551989875927, 28.488792261577455], [], [34.74856845458414, 76.08762120889743], [4.729130764578797, 1.6739882975323273, 5.087487141101205], [11.077761454970547, 79.7696105267409], [47.366164544441006, 67.75703164258765], [1.13862879057971, 26.817342578059357], [2.5513336005746803, 2.0167749909648416, 8.634200314622364, 8.3396446831977], [45.783746911288915, 3.4039963560891118], [], [0.2393696666509515, 8.830414883744034, 3.279172787357334, 0.3057578868782629], [1.1710030128563553, 1.6002068421765647, 8.522238540878485, 9.64386831528033], [6.922154180155987, 9.113434428306112, 3.6505778340224815, 7.847588416043012], [68.59834934620174, 48.97263948525813], [26.74146067841596, 32.68635966939178], [95.58031800590652, 74.78948270465702], [40.6096074706351, 15.961830525211285], [61.87653101616733, 71.91000690251337], [65.19585582293568, 73.50189356032347], [87.82229920813313, 51.735860782367716], [66.70952916443788, 66.24925797727063], [35.06660094469407, 23.433912536017655], [], [6.89860103215908, 5.041526537882883, 5.875387671800097], [9.52706222367625, 6.914915673278976, 0.6410437222649434, 9.983895023345555], [3.0240654570063152, 4.4602551490319255, 2.931167340725108, 9.196623318366182], [44.467822864886955, 15.209996817736748], [3.6764247082288337, 7.2571553344994255, 6.516120130007805, 9.228933806679636], [88.9772853187065, 65.72110527680083], [7.296413038362408, 2.5938402231532667, 7.154737255110112, 2.236935567773426]]\n"
          ],
          "name": "stdout"
        }
      ]
    },
    {
      "cell_type": "code",
      "metadata": {
        "id": "YiqxeXPRr1gf",
        "colab": {
          "base_uri": "https://localhost:8080/"
        },
        "outputId": "41a17093-766f-4904-efa6-0a9a5314d8a3"
      },
      "source": [
        "# This program manipulates a list of 2D, 3D, and 4D vectors that\n",
        "# are randomly distributed in the array. The program normalizes \n",
        "# the vectors and stores them in arrays that conain same-dimensional\n",
        "# vectors.\n",
        "\n",
        "vectors = b                               # load vectors just generated above\n",
        " \n",
        "# Empty lists to store vectors\n",
        "vec2D = []          \n",
        "vec3D = []\n",
        "vec4D = []\n",
        "\n",
        "\n",
        "for vector in vectors:\n",
        "  sqNorm = 0\n",
        "  for comp in vector:\n",
        "    sqNorm = sqNorm + comp**2\n",
        "  for comp in vector: \n",
        "    comp /= sqNorm**(1/2)\n",
        "  if len(vector) == 2:\n",
        "    vec2D.append(vector) \n",
        "  elif len(vector) == 3:\n",
        "    vec3D.append(vector)\n",
        "  elif len(vector) == 4:\n",
        "    vec4D.append(vector)\n",
        "\n",
        "print('Number of 2D vectors: ' + str(len(vec2D)))\n",
        "print('Number of 3D vectors: ' + str(len(vec3D)))\n",
        "print('Number of 4D vectors: ' + str(len(vec4D)))"
      ],
      "execution_count": null,
      "outputs": [
        {
          "output_type": "stream",
          "text": [
            "Number of 2D vectors: 37\n",
            "Number of 3D vectors: 8\n",
            "Number of 4D vectors: 23\n"
          ],
          "name": "stdout"
        }
      ]
    },
    {
      "cell_type": "markdown",
      "metadata": {
        "id": "yrWTRb9bGDv0"
      },
      "source": [
        "A continuación puede ver un ejemplo de cómo utilizar el bloque *if* para evitar crear una variable booleana (menos líneas y código más limpio :D): \n",
        "\n",
        "\n",
        "*   Listas vacías = False\n",
        "*   Listas con elementos = True \n",
        "\n"
      ]
    },
    {
      "cell_type": "code",
      "metadata": {
        "id": "9rIAv2tCwZbL",
        "colab": {
          "base_uri": "https://localhost:8080/"
        },
        "outputId": "5d81f8e4-cb82-49de-a32a-47b5852960ba"
      },
      "source": [
        "if not []:\n",
        "  print('La negación de una lista vacía es verdadero.')\n",
        "\n",
        "if not [1]:\n",
        "  print('La negación de una lista llena es falso.')\n",
        "else: \n",
        "  print('Quitame el \"not\" :(')  "
      ],
      "execution_count": null,
      "outputs": [
        {
          "output_type": "stream",
          "text": [
            "La negación de una lista vacía es verdadero.\n",
            "Quitame el \"not\" :(\n"
          ],
          "name": "stdout"
        }
      ]
    },
    {
      "cell_type": "markdown",
      "metadata": {
        "id": "PgcR2467G0C-"
      },
      "source": [
        "**Modifique el código de arriba para ver cómo funciona la condición evaluada en números igual a cero o distintos de creo.**"
      ]
    },
    {
      "cell_type": "markdown",
      "metadata": {
        "id": "L7svf1XcL7C3"
      },
      "source": [
        "## **Tarea**\n",
        "\n",
        "Implementar el reordenamiento de *reshuffle* de una matriz de dimensión $N\\times N$, con $N=2^k, k\\in \\mathbb{Z}^+$.\n",
        "\n",
        "$$B=\n",
        "\\left(\n",
        "\\begin{array}{cccc}\n",
        "B_{00}&B_{01}&B_{02}&B_{03}\\\\\n",
        "B_{10}&B_{11}&B_{12}&B_{13}\\\\\n",
        "B_{20}&B_{21}&B_{22}&B_{23}\\\\\n",
        "B_{30}&B_{31}&B_{32}&B_{33}\n",
        "\\end{array}\n",
        "\\right)\n",
        "\\stackrel{R}{\\longrightarrow}\n",
        "\\left(\n",
        "\\begin{array}{cccc}\n",
        "B_{00}&B_{01}&B_{10}&B_{11}\\\\\n",
        "B_{02}&B_{03}&B_{12}&B_{13}\\\\\n",
        "B_{20}&B_{21}&B_{30}&B_{31}\\\\\n",
        "B_{22}&B_{23}&B_{32}&B_{33}\n",
        "\\end{array}\n",
        "\\right)\n",
        "=B^R.$$"
      ]
    }
  ]
}