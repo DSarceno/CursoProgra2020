{
  "nbformat": 4,
  "nbformat_minor": 0,
  "metadata": {
    "colab": {
      "name": "Clase6.ipynb",
      "provenance": [],
      "collapsed_sections": []
    },
    "kernelspec": {
      "name": "python3",
      "display_name": "Python 3"
    }
  },
  "cells": [
    {
      "cell_type": "markdown",
      "metadata": {
        "id": "7DIvZPrUl-kp"
      },
      "source": [
        "# Lectura y Escritura de Archivos\n",
        "Nosotros al realizar un programa, generalmente requerimos de una entrada de datos para trabajar, y una forma de entregar los resultados que generan estos datos. Para esto estudiaremos como leer archivos externos utilizando python.\n",
        "## Tipos de Entradas y Salidas\n",
        "Las entradas y salidas son practicamente las mismas, asi como se puede leer un archivo de texto, se puede escribir en el.\n",
        "\n",
        "*   Estandar (Entrada: Teclado, Salida: Terminal)\n",
        "*   Archivo (.txt, .tex, .csv, .tsv, etc.)\n",
        "*   Web\n",
        "\n",
        "Estas entradas y salidas son las más comunes.\n",
        "\n",
        "### Método 'input'\n",
        "Este método forma parte de la entrada estandar en la terminal, es el más utilizado cuando el número de datos que se solicita al usuario es reducido.\n"
      ]
    },
    {
      "cell_type": "code",
      "metadata": {
        "id": "m7bepQkWmI-H",
        "colab": {
          "base_uri": "https://localhost:8080/"
        },
        "outputId": "92eeff8b-0c55-4e20-f245-10c0e1f9b4ec"
      },
      "source": [
        "num = input('Ingrese un número real: ')\n",
        "print(num)"
      ],
      "execution_count": null,
      "outputs": [
        {
          "output_type": "stream",
          "text": [
            "Ingrese un número real: 3.14\n",
            "3.14\n"
          ],
          "name": "stdout"
        }
      ]
    },
    {
      "cell_type": "markdown",
      "metadata": {
        "id": "IBMMxkrE-NVf"
      },
      "source": [
        "El aliado más importante de este método es otro llamado 'eval', este lo que hace con el input del usuario, media vez no sea cadena, es convertirlo al tipo de dato al cual pertenece."
      ]
    },
    {
      "cell_type": "code",
      "metadata": {
        "id": "Sa7E_Xis-bF3",
        "colab": {
          "base_uri": "https://localhost:8080/"
        },
        "outputId": "99954ddd-5550-4436-8faa-974c1c1fbe24"
      },
      "source": [
        "for i in range(5):\n",
        "  data = input('Ingrese algo: ')\n",
        "  print(type(data))\n",
        "  print(type(eval(data)))\n"
      ],
      "execution_count": null,
      "outputs": [
        {
          "output_type": "stream",
          "text": [
            "Ingrese algo: 5\n",
            "<class 'str'>\n",
            "<class 'int'>\n",
            "Ingrese algo: [1,2]\n",
            "<class 'str'>\n",
            "<class 'list'>\n",
            "Ingrese algo: (0,0)\n",
            "<class 'str'>\n",
            "<class 'tuple'>\n",
            "Ingrese algo: 5.2\n",
            "<class 'str'>\n",
            "<class 'float'>\n",
            "Ingrese algo: 5\n",
            "<class 'str'>\n",
            "<class 'int'>\n"
          ],
          "name": "stdout"
        }
      ]
    },
    {
      "cell_type": "markdown",
      "metadata": {
        "id": "frgVtTNd-NNr"
      },
      "source": [
        "### Método 'open'\n",
        "Antes que nada, es importante saber como es que python navega por el archivo. Python navega desde la primera línea hasta la última, sin posibilidad de regresar a la línea anterior, independientemente si se esta escribiendo en él o simplemente leyendo. \n",
        "\n",
        "Además, existen 3 formas de trabajar con archivos:\n",
        "\n",
        "\n",
        "*   Método read 'r': lee línea por línea.\n",
        "*   Método write 'w': Escribe línea por línea, cambiando de línea con '\\n'\n",
        "*   Método append 'a': permite leer y agregar elementos al documento (no estudiaremos este)\n",
        "\n",
        "---Esta parte de lectura se realizará fuera del google colab---\n",
        "\n",
        "### Problema 1\n",
        "Este problema fue extraído de la página de *ProjectEuler* Problema 13.\n",
        "\n",
        "Encuentre los primeros $10$ dígitos de la suma de los siguientes $100$ números de $50$ dígitos.\n",
        "\n",
        "Algoritmo:\n",
        "\n",
        "\n",
        "1.   Abrimos el archivo y lo leemos el archivo en una lista.\n",
        "2.   Sumamos todos los números guardados en la lista y lo guardamos en una variable\n",
        "3.   Tomamos los primeros $10$ dígitos de dicho número.\n",
        "\n"
      ]
    },
    {
      "cell_type": "code",
      "metadata": {
        "id": "OyORV8YyLr22"
      },
      "source": [
        "37107287533902102798797998220837590246510135740250\n",
        "46376937677490009712648124896970078050417018260538\n",
        "74324986199524741059474233309513058123726617309629\n",
        "91942213363574161572522430563301811072406154908250\n",
        "23067588207539346171171980310421047513778063246676\n",
        "89261670696623633820136378418383684178734361726757\n",
        "28112879812849979408065481931592621691275889832738\n",
        "44274228917432520321923589422876796487670272189318\n",
        "47451445736001306439091167216856844588711603153276\n",
        "70386486105843025439939619828917593665686757934951\n",
        "62176457141856560629502157223196586755079324193331\n",
        "64906352462741904929101432445813822663347944758178\n",
        "92575867718337217661963751590579239728245598838407\n",
        "58203565325359399008402633568948830189458628227828\n",
        "80181199384826282014278194139940567587151170094390\n",
        "35398664372827112653829987240784473053190104293586\n",
        "86515506006295864861532075273371959191420517255829\n",
        "71693888707715466499115593487603532921714970056938\n",
        "54370070576826684624621495650076471787294438377604\n",
        "53282654108756828443191190634694037855217779295145\n",
        "36123272525000296071075082563815656710885258350721\n",
        "45876576172410976447339110607218265236877223636045\n",
        "17423706905851860660448207621209813287860733969412\n",
        "81142660418086830619328460811191061556940512689692\n",
        "51934325451728388641918047049293215058642563049483\n",
        "62467221648435076201727918039944693004732956340691\n",
        "15732444386908125794514089057706229429197107928209\n",
        "55037687525678773091862540744969844508330393682126\n",
        "18336384825330154686196124348767681297534375946515\n",
        "80386287592878490201521685554828717201219257766954\n",
        "78182833757993103614740356856449095527097864797581\n",
        "16726320100436897842553539920931837441497806860984\n",
        "48403098129077791799088218795327364475675590848030\n",
        "87086987551392711854517078544161852424320693150332\n",
        "59959406895756536782107074926966537676326235447210\n",
        "69793950679652694742597709739166693763042633987085\n",
        "41052684708299085211399427365734116182760315001271\n",
        "65378607361501080857009149939512557028198746004375\n",
        "35829035317434717326932123578154982629742552737307\n",
        "94953759765105305946966067683156574377167401875275\n",
        "88902802571733229619176668713819931811048770190271\n",
        "25267680276078003013678680992525463401061632866526\n",
        "36270218540497705585629946580636237993140746255962\n",
        "24074486908231174977792365466257246923322810917141\n",
        "91430288197103288597806669760892938638285025333403\n",
        "34413065578016127815921815005561868836468420090470\n",
        "23053081172816430487623791969842487255036638784583\n",
        "11487696932154902810424020138335124462181441773470\n",
        "63783299490636259666498587618221225225512486764533\n",
        "67720186971698544312419572409913959008952310058822\n",
        "95548255300263520781532296796249481641953868218774\n",
        "76085327132285723110424803456124867697064507995236\n",
        "37774242535411291684276865538926205024910326572967\n",
        "23701913275725675285653248258265463092207058596522\n",
        "29798860272258331913126375147341994889534765745501\n",
        "18495701454879288984856827726077713721403798879715\n",
        "38298203783031473527721580348144513491373226651381\n",
        "34829543829199918180278916522431027392251122869539\n",
        "40957953066405232632538044100059654939159879593635\n",
        "29746152185502371307642255121183693803580388584903\n",
        "41698116222072977186158236678424689157993532961922\n",
        "62467957194401269043877107275048102390895523597457\n",
        "23189706772547915061505504953922979530901129967519\n",
        "86188088225875314529584099251203829009407770775672\n",
        "11306739708304724483816533873502340845647058077308\n",
        "82959174767140363198008187129011875491310547126581\n",
        "97623331044818386269515456334926366572897563400500\n",
        "42846280183517070527831839425882145521227251250327\n",
        "55121603546981200581762165212827652751691296897789\n",
        "32238195734329339946437501907836945765883352399886\n",
        "75506164965184775180738168837861091527357929701337\n",
        "62177842752192623401942399639168044983993173312731\n",
        "32924185707147349566916674687634660915035914677504\n",
        "99518671430235219628894890102423325116913619626622\n",
        "73267460800591547471830798392868535206946944540724\n",
        "76841822524674417161514036427982273348055556214818\n",
        "97142617910342598647204516893989422179826088076852\n",
        "87783646182799346313767754307809363333018982642090\n",
        "10848802521674670883215120185883543223812876952786\n",
        "71329612474782464538636993009049310363619763878039\n",
        "62184073572399794223406235393808339651327408011116\n",
        "66627891981488087797941876876144230030984490851411\n",
        "60661826293682836764744779239180335110989069790714\n",
        "85786944089552990653640447425576083659976645795096\n",
        "66024396409905389607120198219976047599490197230297\n",
        "64913982680032973156037120041377903785566085089252\n",
        "16730939319872750275468906903707539413042652315011\n",
        "94809377245048795150954100921645863754710598436791\n",
        "78639167021187492431995700641917969777599028300699\n",
        "15368713711936614952811305876380278410754449733078\n",
        "40789923115535562561142322423255033685442488917353\n",
        "44889911501440648020369068063960672322193204149535\n",
        "41503128880339536053299340368006977710650566631954\n",
        "81234880673210146739058568557934581403627822703280\n",
        "82616570773948327592232845941706525094512325230608\n",
        "22918802058777319719839450180888072429661980811197\n",
        "77158542502016545090413245809786882778948721859617\n",
        "72107838435069186155435662884062257473692284509516\n",
        "20849603980134001723930671666823555245252804609722\n",
        "53503534226472524250874054075591789781264330331690"
      ],
      "execution_count": null,
      "outputs": []
    },
    {
      "cell_type": "markdown",
      "metadata": {
        "id": "1vjnvlLGOGI0"
      },
      "source": [
        "## Problema 2:\n",
        "Del archivo de datos aleatorios con incertezas, encuentre el producto de ambos datos en la fila y calcule la propagación de incerteza. Además escriba los nuevos pares de números en un nuevo archivo .tsv.\n",
        "\n",
        "Algoritmo para el problema $2$:\n",
        "\n",
        "\n",
        "1.   Se abre el archivo y se guarda en una variable, le llamaremos 'file'\n",
        "2.   Se leen todas las líneas y se almacenan en una lista, separando cada cadena por comas y cerramos el archivo.\n",
        "3.   Se navega por la lista multiplicando y calculando las incertezas de todos los elementos y almacenandolos en otra lista, la llamaremos 'prods'. La propagación de incerteza se realizará mediante lo siguiente:\n",
        "  $$Q = q \\pm \\delta q$$\n",
        "Donde $q = \\frac{xy}{z}$\n",
        "  $$\\delta q = q \\sqrt{\\frac{\\delta x}{x} + \\frac{\\delta y}{y} + \\frac{\\delta z}{z}}$$\n",
        "\n",
        "4.   Abrimos un nuevo archivo con el método 'write', y escribimos el dato y al lado su incerteza (puede ser separado por un espacio, una coma, punto y coma, etc.) Ej: $q, \\delta q$.\n",
        "5.   Cerramos el archivo y revisamos como quedó.\n",
        "\n",
        "\n",
        "### Escribiento un archivo $\\LaTeX$\n",
        "\n",
        "  Para escribir en un archivo latex, es exactamente como escribir en cualquier tipo de archivo, simplemente, respetamos la estructura del archivo *.tex*.\n",
        "\n",
        "**Método 'Format'**\n",
        "\n",
        "El método format, se utiliza para reservar una serie de espacios en una cadena para ingresar algún elemento que se calculó en algún punto del programa.\n",
        "\n",
        "Ejemplo:"
      ]
    },
    {
      "cell_type": "code",
      "metadata": {
        "id": "RzbwHUBcP5Jr",
        "colab": {
          "base_uri": "https://localhost:8080/"
        },
        "outputId": "6d45b336-738d-4ba3-a64f-5851e61e791e"
      },
      "source": [
        "import random\n",
        "\n",
        "a = random.random()\n",
        "b = random.random()\n",
        "c = random.random()\n",
        "\n",
        "texto = 'El primer número aleatorio es {num1}, el segundo es {num2} y el tercero es {num3}.'\n",
        "print(texto.format(num1 = str(a), num2 = str(b), num3 = str(c)))"
      ],
      "execution_count": null,
      "outputs": [
        {
          "output_type": "stream",
          "text": [
            "El primer número aleatorio es 0.11221556199451121, el segundo es 0.2859547287892257 y el tercero es 0.6471652388492596.\n"
          ],
          "name": "stdout"
        }
      ]
    },
    {
      "cell_type": "markdown",
      "metadata": {
        "id": "vxnBBeYbQef9"
      },
      "source": [
        "### Ejemplo a $\\LaTeX$\n",
        "\n",
        "Se tomará la el archivo de datos aleatorios y el archivo creado con los productos y sus incertezas, en latex se creará un archivo que tenga dichos datos en una tabla y se compile en la terminal.\n",
        "\n",
        "Algoritmo:\n",
        "\n",
        "\n",
        "\n",
        "1.   Se abre el primer archivo y se guarda en una variable, al igual que el segundo (en variables distintas.)\n",
        "2.   Se crea el archivo $\\LaTeX$ (El preambulo y encabezado)\n",
        "3.   Se crea la tabla.\n",
        "4.   Se compila en la terminal utilizando el módulo 'subprosses' y el comando pdflatex.\n",
        "\n"
      ]
    },
    {
      "cell_type": "markdown",
      "metadata": {
        "id": "gq2U3kuARkwr"
      },
      "source": [
        "## Tarea:\n",
        "### Ejercicio 1:\n",
        "\n",
        "> Tomando el archivo que se encuentra en el siguiente [vínculo](https://projecteuler.net/project/resources/p022_names.txt). Ordene los nombres en orden alfabético y encuentre el nombre con el *score* más alto.\n",
        "\n",
        "> Score: Por ejemplo tomando COLIN en el cual, tomando la posición de cada letra en el abecedario:\n",
        "\n",
        "\n",
        "\n",
        "$$COLIN = 3+15+12+9+14 = 53$$\n",
        "\n",
        "\n",
        "\n",
        "> Además, esta en la posición número $938$. Con lo que su *score* es $49714$.\n",
        "\n",
        "\n",
        "> Encuentre la palabra con el mayor score de la lista y muestrela en la terminal. Luego escriba un archivo en el cual este cada palabra y en la siguiente columna su score. (el archivo debe tener solo $2$ columnas).\n",
        "\n",
        "### Ejercicio 2:\n",
        "\n",
        "\n",
        "> Este ejercicio se busca verificar la validez de identidades alebraicas y encontrar mostrar el error en las cantidades que python majena. Para esto se utilizará el módulo random para generar los números a valuar en las identidades.\n",
        "\n",
        "> Se valuará la identidad y se comprobará su validez por medio de un booleano, y se realizará lo mismo aproximando a cierta cantidad de cifras decimales. Los datos se almacenarán en un reporte latex (tabla latex) de la siguiente forma:\n",
        "\n",
        "Por ejemplo, la identidad: $a - b = -(b - a)$: \\\n",
        "| a - b || -(b -  a) || ¿Igualdad? || a - b Redondeado || -(b -  a) Redondeado || ¿Igualdad? || ¿Igualdad entre las igualdades? |\n",
        "\n",
        "> Realice $10$ iteraciones por identidad para las siguientes identidades:\n",
        "\n",
        "\n",
        "*   $(ab)^4 = a^4 b^4$\n",
        "*   $e^{a + b} = e^a e^b$\n",
        "*   $\\ln{ab} = \\ln{a} + \\ln{b}$\n",
        "*   $\\sinh{a + b} = \\frac{e^a e^b - e^{-a} e^{-b}}{2}$\n",
        "*   $\\log _{ab} {n} = \\frac{\\log _a {n} \\log _b {n}}{\\log _a {n} + \\log _b {n}}$\n",
        "\n",
        "\n",
        "\n"
      ]
    }
  ]
}