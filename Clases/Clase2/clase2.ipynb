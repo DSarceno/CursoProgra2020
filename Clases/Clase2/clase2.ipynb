{
  "nbformat": 4,
  "nbformat_minor": 0,
  "metadata": {
    "colab": {
      "name": "Untitled0.ipynb",
      "provenance": [],
      "authorship_tag": "ABX9TyM6NEigBIeVJDb1rZkQaP9k",
      "include_colab_link": true
    },
    "kernelspec": {
      "name": "python3",
      "display_name": "Python 3"
    }
  },
  "cells": [
    {
      "cell_type": "markdown",
      "metadata": {
        "id": "view-in-github",
        "colab_type": "text"
      },
      "source": [
        "<a href=\"https://colab.research.google.com/github/DSarceno/CursoProgra2020/blob/master/clase2.ipynb\" target=\"_parent\"><img src=\"https://colab.research.google.com/assets/colab-badge.svg\" alt=\"Open In Colab\"/></a>"
      ]
    },
    {
      "cell_type": "markdown",
      "metadata": {
        "id": "5gXaIqrp8ErD"
      },
      "source": [
        "#Listas:\n",
        "Una lista de Python es una secuencia ordenada de objetos arbitrarios. Las listas son modificables, por lo que podemos manipularlas de distintas maneras según sea necesario.\n",
        "\n",
        "Nota: python empieza a contar desde 0.\n",
        "\n",
        "Ejemplos de listas:\n"
      ]
    },
    {
      "cell_type": "code",
      "metadata": {
        "id": "b9KQNRyu8C6R"
      },
      "source": [
        "l1=[1,2,3,4]                    #Una lista de números enteros\n",
        "\n",
        "l2=['a','b','c']                #Una lista de elementos de tipo string\n",
        "\n",
        "l3=['a','1','b','2']            #Una lista híbrida\n",
        "\n",
        "l4=[[1,0,0],[0,1,0],[0,0,1]]    #Lista de listas (tiene cara de matriz, cierto ;) )\n",
        "\n",
        "l5=[False, True, True, False]   #Lista con elementos de tipo booleano"
      ],
      "execution_count": 12,
      "outputs": []
    },
    {
      "cell_type": "markdown",
      "metadata": {
        "id": "aJSzyUdU87LQ"
      },
      "source": [
        "Las listas de python son fácilmente modificables. Podemos extraer elementos de ellas, eliminarlos, insertar nuevos elementos, crear sublistas, etc. \n",
        "\n",
        "Aquí algunos ejemplos:"
      ]
    },
    {
      "cell_type": "markdown",
      "metadata": {
        "id": "7pVWViLBBrP1"
      },
      "source": [
        "Extraer e insertar elementos:"
      ]
    },
    {
      "cell_type": "code",
      "metadata": {
        "id": "mf5m7Rro_6uj"
      },
      "source": [
        "#utilizamos la función print() para imprimir en la shell lo que queremos ver\n",
        "\n",
        "print(l1[0])            #Extraer e imprimir un elemento de una lista"
      ],
      "execution_count": null,
      "outputs": []
    },
    {
      "cell_type": "code",
      "metadata": {
        "colab": {
          "base_uri": "https://localhost:8080/"
        },
        "id": "tWkByXOWAZIP",
        "outputId": "5f0cb40d-5459-45d4-d0b3-9e0a523dedae"
      },
      "source": [
        "#Método l.insert(i,elemento)\n",
        "\n",
        "l2.insert(3,'hola')     #Insertar un elemento en la tercera posición de la lista l2\n",
        "print(l2)               #Imprimir la lista l2 para ver la modificación que hicimos"
      ],
      "execution_count": 7,
      "outputs": [
        {
          "output_type": "stream",
          "text": [
            "['a', 'b', 'c', 'hola']\n"
          ],
          "name": "stdout"
        }
      ]
    },
    {
      "cell_type": "code",
      "metadata": {
        "colab": {
          "base_uri": "https://localhost:8080/"
        },
        "id": "BLfXc_W6BRyV",
        "outputId": "b9d6c9e5-8f06-4f22-f606-7851a720baad"
      },
      "source": [
        "#Método l.append(elemento)\n",
        "\n",
        "l2.append('hey')        #Insertamos un nuevo elemento en la última posición de la lista l2\n",
        "print(l2)               #Imprimir"
      ],
      "execution_count": 8,
      "outputs": [
        {
          "output_type": "stream",
          "text": [
            "['a', 'b', 'c', 'hola', 'hey']\n"
          ],
          "name": "stdout"
        }
      ]
    },
    {
      "cell_type": "markdown",
      "metadata": {
        "id": "H8Ff_idRByCr"
      },
      "source": [
        "Eliminar elementos:"
      ]
    },
    {
      "cell_type": "code",
      "metadata": {
        "colab": {
          "base_uri": "https://localhost:8080/"
        },
        "id": "VNm0SXpOBzze",
        "outputId": "362556bc-fbc0-43e1-d168-1cd28385ce7d"
      },
      "source": [
        "#Método l.remove(elemento)\n",
        "\n",
        "l3.remove('1')            #Eliminamos el elemento '1' de l3\n",
        "print(l3)                 "
      ],
      "execution_count": 9,
      "outputs": [
        {
          "output_type": "stream",
          "text": [
            "['a', 'b', '2']\n"
          ],
          "name": "stdout"
        }
      ]
    },
    {
      "cell_type": "code",
      "metadata": {
        "colab": {
          "base_uri": "https://localhost:8080/"
        },
        "id": "_XDHrjNzCUHt",
        "outputId": "236671e0-aceb-4753-bdf5-902edb1b5808"
      },
      "source": [
        "#Método del(l[i])\n",
        "del (l5[1])               #Eliminamos el segundo elemento de l5\n",
        "print(l5)"
      ],
      "execution_count": 11,
      "outputs": [
        {
          "output_type": "stream",
          "text": [
            "[False, False]\n"
          ],
          "name": "stdout"
        }
      ]
    },
    {
      "cell_type": "markdown",
      "metadata": {
        "id": "31KmfRfkCwXN"
      },
      "source": [
        "Veamos qué sucede si usamos los operadores +,-,* con dos listas:"
      ]
    },
    {
      "cell_type": "code",
      "metadata": {
        "colab": {
          "base_uri": "https://localhost:8080/",
          "height": 232
        },
        "id": "FfCwYaMGC4tZ",
        "outputId": "f1146a25-bca3-4e18-9fe4-55ae42b541e3"
      },
      "source": [
        "#Definimos listas arbitrarias\n",
        "lista1=[1,2,4,5]\n",
        "lista2=[1,2,4,5]\n",
        "\n",
        "print(lista1+lista2)              #imprimimos una suma de listas\n",
        "print(lista1-lista2)              #imprimimos(?) una resta de listas\n",
        "print(lista1*lista2)              #imprimimos(?) una multiplicación de listas"
      ],
      "execution_count": 16,
      "outputs": [
        {
          "output_type": "stream",
          "text": [
            "[1, 2, 4, 5, 1, 2, 4, 5]\n"
          ],
          "name": "stdout"
        },
        {
          "output_type": "error",
          "ename": "TypeError",
          "evalue": "ignored",
          "traceback": [
            "\u001b[0;31m---------------------------------------------------------------------------\u001b[0m",
            "\u001b[0;31mTypeError\u001b[0m                                 Traceback (most recent call last)",
            "\u001b[0;32m<ipython-input-16-bef570931a5c>\u001b[0m in \u001b[0;36m<module>\u001b[0;34m()\u001b[0m\n\u001b[1;32m      5\u001b[0m \u001b[0mprint\u001b[0m\u001b[0;34m(\u001b[0m\u001b[0mlista1\u001b[0m\u001b[0;34m+\u001b[0m\u001b[0mlista2\u001b[0m\u001b[0;34m)\u001b[0m              \u001b[0;31m#imprimimos una suma de listas\u001b[0m\u001b[0;34m\u001b[0m\u001b[0;34m\u001b[0m\u001b[0m\n\u001b[1;32m      6\u001b[0m \u001b[0;31m#print(lista1-lista2)              #imprimimos(?) una resta de listas\u001b[0m\u001b[0;34m\u001b[0m\u001b[0;34m\u001b[0m\u001b[0;34m\u001b[0m\u001b[0m\n\u001b[0;32m----> 7\u001b[0;31m \u001b[0mprint\u001b[0m\u001b[0;34m(\u001b[0m\u001b[0mlista1\u001b[0m\u001b[0;34m*\u001b[0m\u001b[0mlista2\u001b[0m\u001b[0;34m)\u001b[0m\u001b[0;34m\u001b[0m\u001b[0;34m\u001b[0m\u001b[0m\n\u001b[0m",
            "\u001b[0;31mTypeError\u001b[0m: can't multiply sequence by non-int of type 'list'"
          ]
        }
      ]
    },
    {
      "cell_type": "markdown",
      "metadata": {
        "id": "QKSvYVp0Dpq6"
      },
      "source": [
        "Ya vimos que hay errores con los operadores - y *, sin embargo, podemos multiplicar un entero por una lista, veamos qué sucede:"
      ]
    },
    {
      "cell_type": "code",
      "metadata": {
        "colab": {
          "base_uri": "https://localhost:8080/"
        },
        "id": "xAvWCpOzDpZv",
        "outputId": "5061306b-7336-492b-cf74-46c44d6035c7"
      },
      "source": [
        "#Multiplicar por la izquierda un entero por una lista:\n",
        "print(3*lista1)           #imprimir el resultado \n",
        "\n",
        "#Multiplicar por la derecha una lista:\n",
        "print(lista1*3)           #imprimir el resultado"
      ],
      "execution_count": 18,
      "outputs": [
        {
          "output_type": "stream",
          "text": [
            "[1, 2, 4, 5, 1, 2, 4, 5, 1, 2, 4, 5]\n",
            "[1, 2, 4, 5, 1, 2, 4, 5, 1, 2, 4, 5]\n"
          ],
          "name": "stdout"
        }
      ]
    },
    {
      "cell_type": "markdown",
      "metadata": {
        "id": "rnxIklUrEIhJ"
      },
      "source": [
        "Como podemos ver, las listas no se comportan como vectores. Sin embargo, nada nos impide crear las condiciones necesarias para emular vectores utilizando listas de Python. \n",
        "\n",
        "Numpy los espera;)"
      ]
    },
    {
      "cell_type": "markdown",
      "metadata": {
        "id": "8aXt6EkMGaoZ"
      },
      "source": [
        "##Sublistas\n",
        "\n",
        "una sublista es una lista que podemos obtener a partir de alguna lista arbitraria. Podemos iterar sobre sus \"separaciones\" como si fuera un punto decimal. \n",
        "\n",
        "Ejemplo:"
      ]
    },
    {
      "cell_type": "code",
      "metadata": {
        "colab": {
          "base_uri": "https://localhost:8080/"
        },
        "id": "_3tDH9rjGs70",
        "outputId": "906cd61f-9ee9-4803-88cb-c7162c5ee7a6"
      },
      "source": [
        "l=['e1','e2','e3','e4']   #Lista madre\n",
        "\n",
        "print(l[1:])        #Sublista con elementos a partir de la separación 1\n",
        "\n",
        "print(l[:1])        #Sublista con elementos a partir de la separación 1 para atrás\n",
        "\n",
        "print(l[-1:])        #Sublista con elementos a partir de la separación -1 \n",
        "\n",
        "print(l[:-1])        #Sublista con elementos a partir de la separación 1 para atrás"
      ],
      "execution_count": 22,
      "outputs": [
        {
          "output_type": "stream",
          "text": [
            "['e2', 'e3', 'e4']\n",
            "['e1']\n",
            "['e4']\n",
            "['e1', 'e2', 'e3']\n"
          ],
          "name": "stdout"
        }
      ]
    },
    {
      "cell_type": "markdown",
      "metadata": {
        "id": "CB_YKZFdElbN"
      },
      "source": [
        "#For Loop:\n",
        "\n",
        "Un `for` loop nos ayuda a hacer la misma operación *para* tantos elementos en una lista como necesitemos. \n",
        "\n",
        "La estructura de un ciclo for que itera sobre los elementos de una lista es la siguiente:"
      ]
    },
    {
      "cell_type": "code",
      "metadata": {
        "id": "ta6xPDV-FMN5"
      },
      "source": [
        "for element in list:\n",
        "    <procedimiento>"
      ],
      "execution_count": null,
      "outputs": []
    },
    {
      "cell_type": "markdown",
      "metadata": {
        "id": "lu1EPpZyHbaZ"
      },
      "source": [
        "###Ejemplo: una lista con colores"
      ]
    },
    {
      "cell_type": "code",
      "metadata": {
        "colab": {
          "base_uri": "https://localhost:8080/"
        },
        "id": "hZ3FH7gNHeKC",
        "outputId": "4ddc9f0e-6330-4562-b81c-701caf86514b"
      },
      "source": [
        "colors=['green','blue','yellow']          #Lista de colores\n",
        "\n",
        "for color in colors:  \n",
        "    print(color)                           #Imprimimos cada elemento de la lista colors\n"
      ],
      "execution_count": 23,
      "outputs": [
        {
          "output_type": "stream",
          "text": [
            "green\n",
            "blue\n",
            "yellow\n"
          ],
          "name": "stdout"
        }
      ]
    },
    {
      "cell_type": "markdown",
      "metadata": {
        "id": "nPRY-W6oFVKJ"
      },
      "source": [
        "Sin embargo, también podemos iterar sobre los índices de la lista. Para eso utilizamos la función `range()` y la función `len()`. La primera nos da un rango de números y la segunda nos dice la longitud de una lista o un elemento tipo string."
      ]
    },
    {
      "cell_type": "code",
      "metadata": {
        "id": "Xgx_hqwZGMCP"
      },
      "source": [
        "for i in range(len(lista)):\n",
        "    <procedimiento>"
      ],
      "execution_count": null,
      "outputs": []
    },
    {
      "cell_type": "markdown",
      "metadata": {
        "id": "B-OrldvGHWnF"
      },
      "source": [
        "###Ejemplo: producto punto entre dos vectores en R8\n",
        "\n"
      ]
    },
    {
      "cell_type": "code",
      "metadata": {
        "colab": {
          "base_uri": "https://localhost:8080/"
        },
        "id": "JzCZEoVnIA1O",
        "outputId": "31904903-bf01-4fd4-e447-4ea904aed059"
      },
      "source": [
        "#Definimos los vectores\n",
        "v1=[3,-4,1,8,6,3,-6,2]\n",
        "v2=[4,2,5,2,-2,6,8,2]\n",
        "dotp=0\n",
        "\n",
        "#Calculamos el producto punto:\n",
        "for i in range(8):\n",
        "    dotp+=v1[i]*v2[i]\n",
        "#Imprimimos el resultado\n",
        "print(dotp)"
      ],
      "execution_count": 25,
      "outputs": [
        {
          "output_type": "stream",
          "text": [
            "-13\n"
          ],
          "name": "stdout"
        }
      ]
    },
    {
      "cell_type": "markdown",
      "metadata": {
        "id": "kw8Vbt00Iqmb"
      },
      "source": [
        "Por último, vamos a implementar la multplicación de dos matrices de 3x3, a partir de la expresión: $$c_{ij}=\\sum_{r=1}^n a_{ir} b_{rj}$$"
      ]
    },
    {
      "cell_type": "code",
      "metadata": {
        "colab": {
          "base_uri": "https://localhost:8080/"
        },
        "id": "EGRx1auLJSSS",
        "outputId": "01ca8bf6-d05a-45b9-f0b7-a87579815c0f"
      },
      "source": [
        "#Definimos la matriz identidad y una matriz A de 3X3\n",
        "I=[[1,0,0],[0,1,0],[0,0,1]] \n",
        "A=[[1,2,3],[1,2,3],[1,2,3]] \n",
        "\n",
        "#Inicializamos la matriz IA \n",
        "IA=[[0]*3,[0]*3,[0]*3]\n",
        "\n",
        "#Usamos la expresión antes mencionada\n",
        "for n in range(3):\n",
        "    for i in range(3):\n",
        "         for j in range(3):\n",
        "             IA[i][j]+=I[i][n]*A[n][j]\n",
        "\n",
        "#Imprimimos la matriz resultante\n",
        "for fila in IA:\n",
        "    print(fila)"
      ],
      "execution_count": 26,
      "outputs": [
        {
          "output_type": "stream",
          "text": [
            "[1, 2, 3]\n",
            "[1, 2, 3]\n",
            "[1, 2, 3]\n"
          ],
          "name": "stdout"
        }
      ]
    },
    {
      "cell_type": "markdown",
      "metadata": {
        "id": "KfP147mHJiWZ"
      },
      "source": [
        "#TAREA: ejercicios 2.6, 2.8, y 2.15"
      ]
    }
  ]
}