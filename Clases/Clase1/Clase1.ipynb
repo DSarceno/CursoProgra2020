{
  "nbformat": 4,
  "nbformat_minor": 0,
  "metadata": {
    "colab": {
      "name": "Clase1",
      "provenance": [],
      "collapsed_sections": []
    },
    "kernelspec": {
      "name": "python3",
      "display_name": "Python 3"
    }
  },
  "cells": [
    {
      "cell_type": "markdown",
      "metadata": {
        "id": "1JCnfZvVk5gl"
      },
      "source": [
        "# Clase Introductoria\n",
        "## Shell de Python\n",
        "Esta es una herramienta muy util al estar aprendiendo a programar y, tambien, en el desarrollo de algun programa o proyecto. Esto es debido a que sirve para el testeo de trozos de codigo, funciones, objetos, etc. Debido a esto es, mas que recomendable, necesario el saber utilizarla.\n",
        "\n",
        "## Calculadora\n",
        "Python, es un lenguaje con una sintaxis muy intuitiva, lo que simplifica realizar operaciones como las de las calculadoras. Para esto se realizara una importacion (mas adelante en el curso se profundizara en los modulos) del modulo **math** que viene incluido con la instalacion de python. La importaciòn se realizara asi:"
      ]
    },
    {
      "cell_type": "code",
      "metadata": {
        "id": "oXHutVrwnEfn"
      },
      "source": [
        "import math"
      ],
      "execution_count": null,
      "outputs": []
    },
    {
      "cell_type": "markdown",
      "metadata": {
        "id": "ZDDzbYV8nG-1"
      },
      "source": [
        "Este modulo incluye las funciones matematicas mas conocidas, tales como el seno, coseno, tangente, sus inversas, logaritmo, ente otras.\n",
        "\n",
        "Ahora, se vera como realizar las opeaciones basicas y la sintaxis para algunas funciones utilizando el paquete math."
      ]
    },
    {
      "cell_type": "code",
      "metadata": {
        "colab": {
          "base_uri": "https://localhost:8080/"
        },
        "id": "BBfQ6k1CnTyc",
        "outputId": "ff861583-219a-427b-b589-a1cc8b8dbfc0"
      },
      "source": [
        "import math\n",
        "\n",
        "a = math.pi\n",
        "b = 2*math.pi\n",
        "\n",
        "# Suma y Resta\n",
        "a + b\n",
        "a - b\n",
        "\n",
        "# Multiplicacion y Division\n",
        "a * b\n",
        "a / b\n",
        "\n",
        "# Exponenciacion\n",
        "a ** b\n",
        "\n",
        "# Funciones del modulo MATH\n",
        "math.sin(a)\n",
        "math.cos(a)\n",
        "math.exp(b)\n",
        "math.log(a)"
      ],
      "execution_count": 1,
      "outputs": [
        {
          "output_type": "execute_result",
          "data": {
            "text/plain": [
              "1.1447298858494002"
            ]
          },
          "metadata": {
            "tags": []
          },
          "execution_count": 1
        }
      ]
    },
    {
      "cell_type": "markdown",
      "metadata": {
        "id": "qelNMJAEoonH"
      },
      "source": [
        "## Tipos de Objetos\n",
        "Como en todo lenguaje de programacion y en casi cualquier ambito de la vida cotidiana, existe una clasificacion de los objetos a utilizar, los mas utilizados en python y los que viene por \"defecto\" son:\n",
        "\n",
        "\n",
        "  * String o cadena ($str$)\n",
        "  * Entero ($int$)\n",
        "  * Flotante o Real ($float$)\n",
        "  * Booleanos ($bool$)\n",
        "  * Listas ($list$)\n",
        "  * Tuplas ($tuple$)\n",
        "  * Diccionarios ($dict$)\n",
        "\n",
        "### Funciones Básicas\n",
        "Las dos primeras funciones, incluidas al descargar python, que utilizaremos de aqui en adelante muy repetidamente, son:\n",
        "\n",
        "  * Print: Esta funcion recibe como valor casi cualquier cosa, e imprime lo que dicha cosa haga o sea."
      ]
    },
    {
      "cell_type": "code",
      "metadata": {
        "colab": {
          "base_uri": "https://localhost:8080/"
        },
        "id": "FGZGBPEWrwg2",
        "outputId": "dbdb75b9-0b34-442a-ee7c-9d7567f19b48"
      },
      "source": [
        "print('Hola Mundo!')"
      ],
      "execution_count": 4,
      "outputs": [
        {
          "output_type": "stream",
          "text": [
            "Hola Mundo!\n"
          ],
          "name": "stdout"
        }
      ]
    },
    {
      "cell_type": "markdown",
      "metadata": {
        "id": "7to8SYl2r5P-"
      },
      "source": [
        "  *  Type: Esta funcion es muy util puesto que nos dice el tipo del objeto que estamos tratando o utilizando."
      ]
    },
    {
      "cell_type": "code",
      "metadata": {
        "colab": {
          "base_uri": "https://localhost:8080/"
        },
        "id": "PfG5ZkkNr8dK",
        "outputId": "5cabbad8-7310-42e3-85d2-6653772af30e"
      },
      "source": [
        "print(type('Hola Mundo!'))\n",
        "print(type(5))\n",
        "print(type(3.4846))\n",
        "print(type(True))\n",
        "print(type(['hola',5, False, 3.14]))\n",
        "print(type((0,0)))\n",
        "print(type({'key':'value'}))"
      ],
      "execution_count": 3,
      "outputs": [
        {
          "output_type": "stream",
          "text": [
            "<class 'str'>\n",
            "<class 'int'>\n",
            "<class 'float'>\n",
            "<class 'bool'>\n",
            "<class 'list'>\n",
            "<class 'tuple'>\n",
            "<class 'dict'>\n"
          ],
          "name": "stdout"
        }
      ]
    },
    {
      "cell_type": "markdown",
      "metadata": {
        "id": "rLusmt6isqc8"
      },
      "source": [
        "## Strings o Cadenas\n",
        "Las cadenas son objetos muy conocidos y muy utiles. Estos poseen operadores como la aritmetica conocida y que hace cosas bastante intuitivas. Sumar dos cadenas es concatenar estas, multiplicar una cadena por un entero es concatenar dicha cadena con si misma ese numero de veces. Sin embargo, una de las caracteristicas mas interesantes e importantes de las cadenas es si iterabilidad, las cadenas son objetos iterables, esto quiere decir que podemos navegar por los caracteres que forma la cadena. Esto se hace de la siguiente forma:"
      ]
    },
    {
      "cell_type": "code",
      "metadata": {
        "colab": {
          "base_uri": "https://localhost:8080/"
        },
        "id": "8TzyuOHis2iW",
        "outputId": "37983d2f-f50e-4135-edc7-47c580454853"
      },
      "source": [
        "a = 'Hola Mundo'\n",
        "print(a[1:8:2])"
      ],
      "execution_count": 5,
      "outputs": [
        {
          "output_type": "stream",
          "text": [
            "oaMn\n"
          ],
          "name": "stdout"
        }
      ]
    },
    {
      "cell_type": "markdown",
      "metadata": {
        "id": "3tfv6a0rs_NU"
      },
      "source": [
        "Lo que hace obvio el hecho de que hace cada parte, **a[caracter inicial:caracter final:paso]**, hay que recordar que para el caracter final el numero colocado siempre se le resta $1$ puesto que el contador de caracteres/posiciones empieza en $0$.\n",
        "\n",
        "## Diccionarios\n",
        "En este objeto no se profundizara en el resto del curso, con lo que se definiria la sintaxis y como utilizarlos. Los disccionarios son una estructura de datos que permite almacenar valores de cualquier tipo como valores y acceder a ellos por medio de una referencia llamada llave. La sintaxis para definir un diccionario en python es:"
      ]
    },
    {
      "cell_type": "code",
      "metadata": {
        "id": "sWaodzO6wll4"
      },
      "source": [
        "diccionario = {'key':'value',\n",
        "'key1':'value2',\n",
        "'key3':'value3',\n",
        "'key4':'value4'\n",
        "}"
      ],
      "execution_count": null,
      "outputs": []
    },
    {
      "cell_type": "markdown",
      "metadata": {
        "id": "Xi_bDZkcwvnb"
      },
      "source": [
        "El modo de acceder a los valores del diccionario es, como fue mencionado, por medio de la llave, es decir, se 'valua' el diccionario con el valor de la llave y este devolvera el valor que almacena la llave. Usando el diccionario anterior ejecute el siguiente comando:"
      ]
    },
    {
      "cell_type": "code",
      "metadata": {
        "id": "jKFquWf8wwQ8"
      },
      "source": [
        "print(diccionario['key1'])"
      ],
      "execution_count": null,
      "outputs": []
    },
    {
      "cell_type": "markdown",
      "metadata": {
        "id": "06IUlgtpw084"
      },
      "source": [
        "## Números Complejos\n",
        "\n",
        "Los números complejos son algon indisplensable no solo para los matemáticos, también para los físicos; por ende, la aritmética de los números complejos viene incluida en python, entonces, podemos utilizar la artimetica vista en la sección de la Calculadora. Tomando $u = a+bi$ y $w = c+di$.\n",
        "  * Parte real y parte imaginaria:\n",
        "  $$\\Re{u} = a \\quad \\Im{u} = b$$\n",
        "  * Conjugado\n",
        "  $$u^* = a-bi$$\n",
        "  * Suma y Resta\n",
        "  $$u\\pm w = (a\\pm c) + (b\\pm d)i$$\n",
        "  * Multiplicación\n",
        "  $$uw = (ac-bd) + (bc+ad)i$$\n",
        "  * División\n",
        "  $$\\frac{u}{w} = \\frac{ac + bd}{c^2 + d^2} + \\frac{bc - ad}{c^2 + d^2} i$$\n",
        "  * Módulo\n",
        "  $$|u| = \\sqrt{a^2 + b^2}$$\n",
        "\n",
        "La parte de aritmética básica, para los números complejos, es igual que para los números reales, pero se añaden ciertos métodos específicos para los numeros complejos, estos son: (Cabe recalcar que en python la unidad imaginaria es representada con la letra $j$)"
      ]
    },
    {
      "cell_type": "code",
      "metadata": {
        "id": "V8Hn0E9jyUCY"
      },
      "source": [
        "# Creacion de complejos\n",
        "u = 3 + 4j\n",
        "u = complex(3,4)\n",
        "\n",
        "# Parte REAL y parte IMAGINARIA\n",
        "pRe = u.real\n",
        "pIm = u.img\n",
        "\n",
        "# Modulo y Conjugado\n",
        "mod = abs(u)\n",
        "conj = u.conjugate()"
      ],
      "execution_count": null,
      "outputs": []
    }
  ]
}