{
  "nbformat": 4,
  "nbformat_minor": 0,
  "metadata": {
    "colab": {
      "name": "taller1-dia5.ipynb",
      "provenance": [],
      "authorship_tag": "ABX9TyObD1+ElvNtCNBCCK4O2ntM",
      "include_colab_link": true
    },
    "kernelspec": {
      "name": "python3",
      "display_name": "Python 3"
    }
  },
  "cells": [
    {
      "cell_type": "markdown",
      "metadata": {
        "id": "view-in-github",
        "colab_type": "text"
      },
      "source": [
        "<a href=\"https://colab.research.google.com/github/DSarceno/CursoProgra2020/blob/master/taller1_dia5.ipynb\" target=\"_parent\"><img src=\"https://colab.research.google.com/assets/colab-badge.svg\" alt=\"Open In Colab\"/></a>"
      ]
    },
    {
      "cell_type": "markdown",
      "metadata": {
        "id": "avRcTVbtUhuy"
      },
      "source": [
        "# Taller 1: Listas, ciclos y decisiones\n",
        "\n",
        "Por: José Alfredo de León"
      ]
    },
    {
      "cell_type": "markdown",
      "metadata": {
        "id": "tXeLlz_WUoaS"
      },
      "source": [
        "## Plan de hoy\n",
        "\n",
        "Vamos a implementar programas para:\n",
        "\n",
        "\n",
        "1.   Crear una matriz a partir de los elementos de la diagonal.\n",
        "2.   Crear una matriz a partir de los elementos y sus correspondientes índices.\n",
        "3.   Calcular la norma de un vector.\n",
        "4.   Normalizar un vector.\n",
        "5.   Calcular la transpuesta de una matriz. \n",
        "6.   Calcular la conjugada de una matriz. \n",
        "7.   Calcular la traza de una matriz.\n",
        "\n"
      ]
    },
    {
      "cell_type": "markdown",
      "metadata": {
        "id": "sEwRbF0zKYSS"
      },
      "source": [
        "### Imprimir una lista de forma bonita:\n",
        "\n",
        "Entrada: lista que representa una matriz \n",
        "Salida: matriz impresa de forma chula"
      ]
    },
    {
      "cell_type": "code",
      "metadata": {
        "colab": {
          "base_uri": "https://localhost:8080/"
        },
        "id": "cAmeJvH_I4KD",
        "outputId": "5ebba80c-ae07-4522-8a34-b8eecb769836"
      },
      "source": [
        "# Input matrix\n",
        "input = [[1,2,3],[4,5,6],[7,8,9]]\n",
        "\n",
        "# Print matrix nicely\n",
        "for row in a:\n",
        "  print(row)"
      ],
      "execution_count": null,
      "outputs": [
        {
          "output_type": "stream",
          "text": [
            "[1, 2, 3]\n",
            "[4, 5, 6]\n",
            "[7, 8, 9]\n"
          ],
          "name": "stdout"
        }
      ]
    },
    {
      "cell_type": "markdown",
      "metadata": {
        "id": "oBITQxRUH0Hs"
      },
      "source": [
        "### 1. Construir una matriz diagonal a partir de sus elementos de la diagonal\n",
        "\n",
        "Entrada: lista con elementos de la diagonal. \n",
        "\n",
        "Salida: matriz diagonal. "
      ]
    },
    {
      "cell_type": "markdown",
      "metadata": {
        "id": "5LBwzT6_LXtM"
      },
      "source": [
        "Encuentre el error:"
      ]
    },
    {
      "cell_type": "code",
      "metadata": {
        "id": "LHmRfuHwLAdS",
        "colab": {
          "base_uri": "https://localhost:8080/"
        },
        "outputId": "ccd05626-d179-4a72-bae0-596141e148c5"
      },
      "source": [
        "# User's input\n",
        "input = [1,2,3,4,5,6,7]\n",
        "\n",
        "output = []\n",
        "\n",
        "# Construct diagonal matrix\n",
        "for i in range(len(input)):\n",
        "  output.append([])                       # Add empty list to output\n",
        "  for j in range(len(input)):\n",
        "    if i == j:                            # When matrix' indices are equal\n",
        "      output[i].append(input[i])          # Add diagonal element\n",
        "    output[i].append(0)                   # Add a zero\n",
        "\n",
        "# Print matrix nicely\n",
        "for row in output:\n",
        "  print(row)"
      ],
      "execution_count": 106,
      "outputs": [
        {
          "output_type": "stream",
          "text": [
            "[1, 0, 0, 0, 0, 0, 0, 0]\n",
            "[0, 2, 0, 0, 0, 0, 0, 0]\n",
            "[0, 0, 3, 0, 0, 0, 0, 0]\n",
            "[0, 0, 0, 4, 0, 0, 0, 0]\n",
            "[0, 0, 0, 0, 5, 0, 0, 0]\n",
            "[0, 0, 0, 0, 0, 6, 0, 0]\n",
            "[0, 0, 0, 0, 0, 0, 7, 0]\n"
          ],
          "name": "stdout"
        }
      ]
    },
    {
      "cell_type": "code",
      "metadata": {
        "colab": {
          "base_uri": "https://localhost:8080/"
        },
        "id": "GlYV45YkHp_R",
        "outputId": "d73d4eb8-f70b-4adc-8423-c6d8214a659e"
      },
      "source": [
        "# User's input\n",
        "input = [1,2,3,4,5,6,7]\n",
        "\n",
        "output = []\n",
        "\n",
        "# Construct diagonal matrix\n",
        "for i in range(len(input)):\n",
        "  output.append([])                   # Add empty list to output\n",
        "  for j in range(len(input)):\n",
        "    if i == j:                        # When matrix' indices are equal\n",
        "      output[i].append(input[i])      # Add diagonal element\n",
        "    else: \n",
        "      output[i].append(0)             # Add a zero otherwise\n",
        "\n",
        "# Print matrix nicely\n",
        "for row in output:\n",
        "  print(row)"
      ],
      "execution_count": 100,
      "outputs": [
        {
          "output_type": "stream",
          "text": [
            "[1, 0, 0, 0, 0, 0, 0]\n",
            "[0, 2, 0, 0, 0, 0, 0]\n",
            "[0, 0, 3, 0, 0, 0, 0]\n",
            "[0, 0, 0, 4, 0, 0, 0]\n",
            "[0, 0, 0, 0, 5, 0, 0]\n",
            "[0, 0, 0, 0, 0, 6, 0]\n",
            "[0, 0, 0, 0, 0, 0, 7]\n"
          ],
          "name": "stdout"
        }
      ]
    },
    {
      "cell_type": "markdown",
      "metadata": {
        "id": "nkAIdA0OMDo2"
      },
      "source": [
        "### 2. Implemente un programa que tome como entrada los elementos de matriz e índices del elemento y devuelva la matriz correspondiente. El programa debe asumir que los índices que el usuario no le da como entrada es porque son elementos iguales a cero. \n",
        "\n",
        "Entrada: Una lista con tres listas:\n",
        "1.   Lista 0: posiciones de los elementos (índices)\n",
        "2.   Lista 1: elementos de matriz\n",
        "3.   Lista 2: Dimensión de la matriz \n",
        "\n",
        "Salida: matriz."
      ]
    },
    {
      "cell_type": "markdown",
      "metadata": {
        "id": "81nsj6rATx0G"
      },
      "source": [
        "Encuentre el error:"
      ]
    },
    {
      "cell_type": "code",
      "metadata": {
        "id": "JTtBPZTcP1pS",
        "colab": {
          "base_uri": "https://localhost:8080/"
        },
        "outputId": "f4719e0b-56d3-415f-e50e-7fb07654d9a9"
      },
      "source": [
        "# User's input\n",
        "input = [[[0,0],[0,3],[3,0],[3,3]],[1,1,1,1],[4,4]]\n",
        "\n",
        "# Input's info\n",
        "indices = input[0]\n",
        "elements = input[1]\n",
        "rows = input[2][0]                                        # number of rows\n",
        "columns = input[2][1]                                     # number of rows\n",
        "\n",
        "numElem = len(indices)                                    # number of elements\n",
        "\n",
        "output = []                                               # matrix initialization\n",
        "\n",
        "k = 0                                                     # counter of elements' initialization\n",
        "for i in range(rows):\n",
        "  output.append([])\n",
        "  for j in range(columns):\n",
        "    if (i == indices[k][0] and j == indices[k][1]):       # when output matrix's and element's indices coincide\n",
        "      output[i].append(elements[k])                       # add element\n",
        "    else:\n",
        "      output[i].append(0)                                 # add zero otherwise\n",
        "  k += 1                                               \n",
        "\n",
        "# Print matrix nicely\n",
        "for row in output:\n",
        "  print(row)"
      ],
      "execution_count": 108,
      "outputs": [
        {
          "output_type": "stream",
          "text": [
            "[1, 0, 0, 0]\n",
            "[0, 0, 0, 0]\n",
            "[0, 0, 0, 0]\n",
            "[0, 0, 0, 1]\n"
          ],
          "name": "stdout"
        }
      ]
    },
    {
      "cell_type": "markdown",
      "metadata": {
        "id": "JrqT-4X-w9i5"
      },
      "source": [
        "El aumento del contador *k* debería estar dentro del *if*."
      ]
    },
    {
      "cell_type": "code",
      "metadata": {
        "colab": {
          "base_uri": "https://localhost:8080/"
        },
        "id": "D1eHElmWKw72",
        "outputId": "04618af8-c159-4e39-b51b-c581ab471651"
      },
      "source": [
        "# User's input\n",
        "input = [[[0,0],[0,3],[3,0],[3,3]],[1,1,1,1],[4,4]]\n",
        "\n",
        "# Input's info\n",
        "indices = input[0]\n",
        "elements = input[1]\n",
        "rows = input[2][0]                                        # number of rows\n",
        "columns = input[2][1]                                     # number of rows\n",
        "\n",
        "numElem = len(indices)                                    # number of elements\n",
        "\n",
        "output = []                                               # matrix initialization\n",
        "\n",
        "k = 0                                                     # counter of elements' initialization\n",
        "for i in range(rows):\n",
        "  output.append([])\n",
        "  for j in range(columns):\n",
        "    if (i == indices[k][0] and j == indices[k][1]):       # when output matrix's and element's indices coincide\n",
        "      output[i].append(elements[k])                       # add element\n",
        "      k += 1   \n",
        "    else:\n",
        "      output[i].append(0)                                 # add zero otherwise                                            \n",
        "\n",
        "# Print matrix nicely\n",
        "for row in output:\n",
        "  print(row)"
      ],
      "execution_count": 109,
      "outputs": [
        {
          "output_type": "stream",
          "text": [
            "[1, 0, 0, 1]\n",
            "[0, 0, 0, 0]\n",
            "[0, 0, 0, 0]\n",
            "[1, 0, 0, 1]\n"
          ],
          "name": "stdout"
        }
      ]
    },
    {
      "cell_type": "markdown",
      "metadata": {
        "id": "rQJ0BLJhUaL5"
      },
      "source": [
        "Este programa tiene una desventaja, ¿puede identificar la limitación de este programa? Es decir, ¿cuándo no sirve este programa?\n",
        "\n",
        "Respuesta: el programa no sirve si los índices de los elementos que da el usuario no están ordenados de arriba a abajo en las filas y de izquierda a derecha en las columnas. Copie el programa y modifíquelo intercambiando el orden de cualquiera de los índices y vea la salida del programa, ¿se le ocurre alguna forma de solucionar este problema? "
      ]
    },
    {
      "cell_type": "markdown",
      "metadata": {
        "id": "dVjC_aRkWwA1"
      },
      "source": [
        "### 3. Implemente un programa para encontrar la norma de un vector\n",
        "\n",
        "Entrada: Vector $n$-dimensional\n",
        "\n",
        "Salida: norma del vector"
      ]
    },
    {
      "cell_type": "code",
      "metadata": {
        "id": "nZKMNsOvW4XS"
      },
      "source": [
        "# User's input\n",
        "input = [1,2,3,4,5,6,7,8,9,10]\n",
        "\n",
        "# Find vector's norm\n",
        "sqNorm = 0                        # initialization of squared norm variable\n",
        "for elem in input:\n",
        "  sqNorm += elem**2       \n",
        "\n",
        "norm = sqNorm**(1/2)             # take the sqrt of squared norm"
      ],
      "execution_count": 110,
      "outputs": []
    },
    {
      "cell_type": "markdown",
      "metadata": {
        "id": "GmP4kzhCVTxa"
      },
      "source": [
        "### 4. Implemente un programa para normalizar vectores\n",
        "\n",
        "Entrada: vector $n$-dimensional no normalizado\n",
        "\n",
        "Salida: vector normalizado"
      ]
    },
    {
      "cell_type": "code",
      "metadata": {
        "colab": {
          "base_uri": "https://localhost:8080/"
        },
        "id": "Dzuaipc5UfxR",
        "outputId": "955bdbb3-e707-49a2-8dd9-57f3d29620b8"
      },
      "source": [
        "# User's input\n",
        "input = [1,2,3,4,5,6,7,8,9,10]\n",
        "\n",
        "# Find vector's norm\n",
        "sqNorm = 0                        # initialization of squared norm variable\n",
        "for elem in input:\n",
        "  sqNorm += elem**2       \n",
        "\n",
        "norm = sqNorm**(1/2)             # take the sqrt of squared norm\n",
        "\n",
        "# Normalization\n",
        "for index in range(len(input)): \n",
        "  input[index] = input[index]/norm\n",
        "\n",
        "# Print in vector form\n",
        "for elem in input:\n",
        "  print(round(elem,2))"
      ],
      "execution_count": null,
      "outputs": [
        {
          "output_type": "stream",
          "text": [
            "0.05\n",
            "0.1\n",
            "0.15\n",
            "0.2\n",
            "0.25\n",
            "0.31\n",
            "0.36\n",
            "0.41\n",
            "0.46\n",
            "0.51\n"
          ],
          "name": "stdout"
        }
      ]
    },
    {
      "cell_type": "markdown",
      "metadata": {
        "id": "zdPyxyD5XKoS"
      },
      "source": [
        "Revisemos que la normalización se haya hecho correctamente: "
      ]
    },
    {
      "cell_type": "code",
      "metadata": {
        "colab": {
          "base_uri": "https://localhost:8080/"
        },
        "id": "6d0UiblTVy-4",
        "outputId": "bb79cbc0-f9e4-4894-e217-95120e40a22e"
      },
      "source": [
        "sqNorm = 0\n",
        "for elem in input:\n",
        "  sqNorm = sqNorm + elem**2\n",
        "\n",
        "print(sqNorm)"
      ],
      "execution_count": null,
      "outputs": [
        {
          "output_type": "stream",
          "text": [
            "1.0\n"
          ],
          "name": "stdout"
        }
      ]
    },
    {
      "cell_type": "markdown",
      "metadata": {
        "id": "PtBx6Fw5cEqk"
      },
      "source": [
        "### 5. Implemente la transpuesta de una matriz\n",
        "\n",
        "Entrada: matriz \n",
        "\n",
        "Salida: matriz transpuesta"
      ]
    },
    {
      "cell_type": "code",
      "metadata": {
        "colab": {
          "base_uri": "https://localhost:8080/"
        },
        "id": "EFdcALyIcEHj",
        "outputId": "c4c00678-90a5-41ac-9bcb-3258661bc253"
      },
      "source": [
        "# Input matrix\n",
        "input = [[1,1,1],[2,2,2],[3,3,3]]\n",
        "\n",
        "dim = len(input)                                    # matrix' dimension\n",
        "\n",
        "output = []                                         # initialization of transpose matrix\n",
        "\n",
        "# Compute a matriz of dimxdim with 0s in every entry\n",
        "for row in range(dim):\n",
        "  output.append([])\n",
        "  for column in range(dim):\n",
        "    output[row].append(0)\n",
        "\n",
        "# Compute de transpose exchanging indices of input matrix\n",
        "for row in range(dim):\n",
        "  for column in range(dim):\n",
        "    output[row][column] = input[column][row]\n",
        "\n",
        "# Print matrix nicely\n",
        "for row in output:\n",
        "  print(row)"
      ],
      "execution_count": null,
      "outputs": [
        {
          "output_type": "stream",
          "text": [
            "[1, 2, 3]\n",
            "[1, 2, 3]\n",
            "[1, 2, 3]\n"
          ],
          "name": "stdout"
        }
      ]
    },
    {
      "cell_type": "markdown",
      "metadata": {
        "id": "YppNcd_ayzH8"
      },
      "source": [
        "### 6. Implemente la conjugada de una matriz\n",
        "\n",
        "Entrada: matriz\n",
        "\n",
        "Salida: matriz conjugada"
      ]
    },
    {
      "cell_type": "code",
      "metadata": {
        "colab": {
          "base_uri": "https://localhost:8080/"
        },
        "id": "jC6luUiDc_tC",
        "outputId": "4cf3fed7-6b2f-4c35-ed49-b9267cb27dd4"
      },
      "source": [
        "# Input matrix\n",
        "input = [[1,1+2j,1],[2-3j,2,2],[3-4j,3,3]]\n",
        "\n",
        "dim = len(input)                                              # matrix' dimension\n",
        "\n",
        "output = []                                                   # initialization of transpose matrix\n",
        "\n",
        "# Compute a matriz of dimxdim with 0s in every entry\n",
        "for row in range(dim):\n",
        "  output.append([])\n",
        "  for column in range(dim):\n",
        "    output[row].append(0)\n",
        "\n",
        "# Compute de conjugate of every entry\n",
        "for row in range(dim):\n",
        "  for column in range(dim):\n",
        "    output[row][column] = input[row][column].conjugate()\n",
        "\n",
        "# Print matrix nicely\n",
        "for row in output:\n",
        "  print(row)"
      ],
      "execution_count": null,
      "outputs": [
        {
          "output_type": "stream",
          "text": [
            "[1, (1-2j), 1]\n",
            "[(2+3j), 2, 2]\n",
            "[(3+4j), 3, 3]\n"
          ],
          "name": "stdout"
        }
      ]
    },
    {
      "cell_type": "markdown",
      "metadata": {
        "id": "05kTSYNbs9tw"
      },
      "source": [
        "### 7. Implemente la traza de una matriz\n",
        "\n",
        "Entrada: matriz\n",
        "\n",
        "Salida: traza de la matriz"
      ]
    },
    {
      "cell_type": "code",
      "metadata": {
        "colab": {
          "base_uri": "https://localhost:8080/"
        },
        "id": "gIjfbtXvfofG",
        "outputId": "b1f2f680-001d-4c11-bc6f-afc667180cbb"
      },
      "source": [
        "# User's input\n",
        "input = [[1,1+2j,1],[2-3j,2,2],[3-4j,3,3]]\n",
        "\n",
        "dim = len(input)                                      # matrix's dimension\n",
        "\n",
        "Tr = 0                                                # initialization of trace var\n",
        "\n",
        "# Sum all diagonal elements\n",
        "for i in range(dim):\n",
        "  Tr += input[i][i]\n",
        "\n",
        "# Print matriz nicely \n",
        "for row in output:\n",
        "  print(row)\n",
        "\n",
        "# Print the trace of the matrix\n",
        "print()\n",
        "print(Tr)"
      ],
      "execution_count": 111,
      "outputs": [
        {
          "output_type": "stream",
          "text": [
            "[1, 0, 0, 1]\n",
            "[0, 0, 0, 0]\n",
            "[0, 0, 0, 0]\n",
            "[1, 0, 0, 1]\n",
            "\n",
            "6\n"
          ],
          "name": "stdout"
        }
      ]
    },
    {
      "cell_type": "markdown",
      "metadata": {
        "id": "7f9byejSgpsY"
      },
      "source": [
        "## Tarea\n",
        "\n",
        "Haga programas, por separado, que implementen:\n",
        "\n",
        "\n",
        "1.   La determinante de una matriz${}^{\\dagger}$ de dimensión $n\\times n$.\n",
        "2.   El producto de Kronecker $A\\otimes B$${}^{*}$, con $A$ una matriz de dimensión $m\\times n$ y $B$ una matriz de $p\\times q$. \n",
        "\n",
        "${}^{*}$ Use la definición del producto de Kronecker que aparece [aquí](https://mathworld.wolfram.com/KroneckerProduct.html).\n",
        "\n",
        "${}^{\\dagger}$ Para esto es probable que necesite algo que calcule el signo de una permutación. Para ello utilice lo siguiente: "
      ]
    },
    {
      "cell_type": "code",
      "metadata": {
        "colab": {
          "base_uri": "https://localhost:8080/"
        },
        "id": "r0Pauo4MjWZV",
        "outputId": "d70bdb62-f22c-45df-c58b-53cd69a1edb0"
      },
      "source": [
        "from sympy.combinatorics.permutations import Permutation \n",
        "a = Permutation([1,0,2])\n",
        "print(\"Signo de la permutación de a:\", a.signature()) "
      ],
      "execution_count": null,
      "outputs": [
        {
          "output_type": "stream",
          "text": [
            "Signo de la permutación de a: -1\n"
          ],
          "name": "stdout"
        }
      ]
    },
    {
      "cell_type": "markdown",
      "metadata": {
        "id": "7PpdJbOKpyhx"
      },
      "source": [
        "La línea 1 importa la función 'Permutation' de la librería de Sympy. La línea 2 define la permutación (1,0,2), es decir la permutación desde el arreglo en su forma canónica (0,1,2). La línea 3 'a.signature()' da el signo de la permutación."
      ]
    }
  ]
}
