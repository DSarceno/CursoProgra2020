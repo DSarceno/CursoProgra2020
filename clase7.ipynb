{
  "nbformat": 4,
  "nbformat_minor": 0,
  "metadata": {
    "colab": {
      "name": "clase7.ipynb",
      "provenance": [],
      "authorship_tag": "ABX9TyNZEZm0QvMc5ItzzuFSzkh7",
      "include_colab_link": true
    },
    "kernelspec": {
      "name": "python3",
      "display_name": "Python 3"
    }
  },
  "cells": [
    {
      "cell_type": "markdown",
      "metadata": {
        "id": "view-in-github",
        "colab_type": "text"
      },
      "source": [
        "<a href=\"https://colab.research.google.com/github/DSarceno/CursoProgra2020/blob/master/clase7.ipynb\" target=\"_parent\"><img src=\"https://colab.research.google.com/assets/colab-badge.svg\" alt=\"Open In Colab\"/></a>"
      ]
    },
    {
      "cell_type": "markdown",
      "metadata": {
        "id": "WqPXb4ilOn_5"
      },
      "source": [
        "#Lectura y Escritura de Archivos (Parte 2) "
      ]
    },
    {
      "cell_type": "markdown",
      "metadata": {
        "id": "mjmXEKPBO39h"
      },
      "source": [
        "En esta clase aplicaremos lo aprendido en la clase anterior sobre lectura y escritura de archivos. Resolvamos el siguiente problema: \n",
        "\n",
        "Consideremos la fórmula y=v_0*t-0.5g*t^2, queremos calcular y para un rango de valores t que se encuentran almacenados en  [este](https://github.com/hplgit/scipro-primer/blob/master/src/input/ball.dat) archivo de texto. Las primeras dos líneas  siempre están presentes, mientras el resto tienen valores de t en desorden. \n",
        "\n",
        "a)Escriba una función que lea el archivo de entrada y nos devuelva v0 y una lista con los valores t. \n",
        "\n",
        "b)Escriba una función que cree un archivo de texto e imprima en él dos columnas. En la columna izquierda deben ir los valores de t en orden ascendente y en la columna derecha sus respectivos valores y.\n"
      ]
    },
    {
      "cell_type": "markdown",
      "metadata": {
        "id": "lyDmfAp8YgEx"
      },
      "source": [
        "Algoritmo para la primera función:\n",
        "1. Explorar el archivo de texto.\n",
        "2. Identificar los valores que deseamos extraer del archivo.\n",
        "3. Crear una función, donde el argumento es el nombre del archivo de texto.\n",
        "4. Abrir el archivo de texto con Python.\n",
        "5. Extraer v0 y almacenarlo en una variable.\n",
        "6. Extraer los valores t en \"crudo\" y almacenarlos.\n",
        "7. Cerrar el archivo de texto con Python.\n",
        "8. Procesar los valores hasta obtener una lista de elementos de tipo float con todos los t del archivo.\n",
        "9. Retornar v0 y la lista con valores T "
      ]
    },
    {
      "cell_type": "code",
      "metadata": {
        "id": "Il3PSTOoWshd"
      },
      "source": [
        "#Función 1\n",
        "\n",
        "def read_file(file):      #Definimos la función que lee archvios\n",
        "\n",
        "    T=[]      \n",
        "    L=[]\n",
        "\n",
        "    #Abrimos el archivo en modo leer\n",
        "    infile=open(file,'r')                    \n",
        "\n",
        "    #Almacenamos el valor de v0\n",
        "    v0=float(infile.readline().split()[1] )            \n",
        "\n",
        "    #Leer el resto de líneas y almacenar los valores\n",
        "    for line in infile.readlines():\n",
        "        L.append(line)\n",
        "        \n",
        "    #Cerrar el archivo\n",
        "    infile.close()     \n",
        "    \n",
        "    #Almacenar los valores t en una lista\n",
        "    for element in L[1:]:\n",
        "        for t in element.split():\n",
        "            T.append(float(t))\n",
        "            \n",
        "    #Retornar v0 y la lista con valores T\n",
        "    return v0, T"
      ],
      "execution_count": null,
      "outputs": []
    },
    {
      "cell_type": "markdown",
      "metadata": {
        "id": "qMq8Hg2FWCNT"
      },
      "source": [
        "Algoritmo para función 2:\n",
        "-> Esta función la haremos en el mismo archivo .py para poder utilizar la función anterior. \n",
        "1. Definimos la nueva función sin argumentos.\n",
        "2. Almacenamos los datos que devuelve la función 1.\n",
        "3. Ordenamos de forma ascendente los tiempos del texto\n",
        "4. Calculamos cada y(t_k) y las almacenamos en una lista.\n",
        "5. Imprimimos los datos con el formato indicado por el problema.\n"
      ]
    },
    {
      "cell_type": "code",
      "metadata": {
        "id": "NMthLqRdxQmP"
      },
      "source": [
        "def write_file():\n",
        "    g=9.8                                           #gravedad\n",
        "    \n",
        "    #Almacenar los datos de la función 1\n",
        "    v0=read_file('balldat.txt')[0]\n",
        "    t=read_file('balldat.txt')[1]\n",
        "    \n",
        "    #Ordenar los elementos t de forma ascendente\n",
        "    T=sorted(t,key=float)\n",
        "    \n",
        "    #Calcular y almacenar los valores de y\n",
        "    Y=[]                                            #Inicializar lista de valores y\n",
        "    for i in range(len(T)):\n",
        "        y = v0*T[i]-0.5*g*T[i]**2\n",
        "        Y.append(y)\n",
        "        \n",
        "    #Crear el archivo de texto    \n",
        "    outfile=open('new_file.txt','w')\n",
        "     \n",
        "    outfile.write('   t   ' + '    y    ' + '\\n')       #Encabezado\n",
        "    \n",
        "    #Imprimir columnas\n",
        "    for i in range(len(T)):\n",
        "        outfile.write('%.5f  %.5f' %(T[i] ,Y[i])+'\\n')\n",
        "        \n",
        "    #Cerrar el archivo de texto \n",
        "    outfile.close()"
      ],
      "execution_count": null,
      "outputs": []
    }
  ]
}