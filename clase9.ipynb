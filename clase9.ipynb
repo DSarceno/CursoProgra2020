{
  "nbformat": 4,
  "nbformat_minor": 0,
  "metadata": {
    "colab": {
      "name": "clase9.ipynb",
      "provenance": [],
      "authorship_tag": "ABX9TyNfJ+z+HXdjBwQg7tbE/q3y",
      "include_colab_link": true
    },
    "kernelspec": {
      "name": "python3",
      "display_name": "Python 3"
    }
  },
  "cells": [
    {
      "cell_type": "markdown",
      "metadata": {
        "id": "view-in-github",
        "colab_type": "text"
      },
      "source": [
        "<a href=\"https://colab.research.google.com/github/DSarceno/CursoProgra2020/blob/master/clase9.ipynb\" target=\"_parent\"><img src=\"https://colab.research.google.com/assets/colab-badge.svg\" alt=\"Open In Colab\"/></a>"
      ]
    },
    {
      "cell_type": "markdown",
      "metadata": {
        "id": "UkRJhqMk23RP"
      },
      "source": [
        "# **Funciones**\n",
        "10.12.2020\n",
        "\n",
        "Por: José Alfredo de León\n",
        "\n",
        "## Plan para hoy:\n",
        "- Introducción: ¿qué es una función en un lenguaje de programación? \n",
        "- Motivación: $\\sigma_1\\otimes\\sigma_3 \\stackrel{?}{=} (\\sigma_1\\otimes\\mathbb{1})(\\mathbb{1}\\otimes\\sigma_3)$ \n",
        "- Sintáxis de una función \n",
        "- Resolviendo $\\sigma_1\\otimes\\sigma_3 \\stackrel{?}{=} (\\sigma_1\\otimes\\mathbb{1})(\\mathbb{1}\\otimes\\sigma_3)$ en un programa con funciones\n",
        "\n"
      ]
    },
    {
      "cell_type": "markdown",
      "metadata": {
        "id": "s8TTrDqcEPaY"
      },
      "source": [
        "## **Introducción: ¿qué es una función en un lenguaje de programación?**"
      ]
    },
    {
      "cell_type": "markdown",
      "metadata": {
        "id": "d-IZTXcI5o93"
      },
      "source": [
        "- En programación el término *'función'* es un término que va más allá de una función matemática. Sin embargo, en la raíz ambos términos sí que son similares. Por ejemplo: ¿cómo se lee en palabras la siguiente función $f(x)=3x+1$? \n",
        "\n",
        "- Muy en el fondo, una función matemática es un conjunto de instrucciones, al igual que una función en un lenguaje de programación. **Una función es un conjunto de líneas de código que se pueden ejecutar cuando sea y donde sea en un programa.** Esta definición es importante para entender el espíritu en el que se crea una función.\n",
        "\n",
        "- Podemos pensar que una función es un mini programa en sí mismo: una función debe tener variables de entrada y de salida, igual que un programa.\n",
        "\n",
        "- Las funciones permiten hacer un código más ordenado y limpio cuando se debe ejecutar más de una vez un mismo bloque de código a lo largo de un programa (o en diferentes programas). Hasta ahora, ya tenemos cierta experiencia con funciones, pues hemos estado utilizando las funciones intrínsecas de python: *range(), list(), int(), max()*. **¡Cuidado!** No se deben confundir a las funciones con los métodos: *append(), remove(), pop()* son métodos. Los métodos modifican a un objeto a través del operador '.'. Los métodos son algo particular del paradigma de POO y python es un lenguaje con enfoque orientado a objetos, sin embargo, no es el caso de todos los lenguajes de programación."
      ]
    },
    {
      "cell_type": "markdown",
      "metadata": {
        "id": "Mrv4Ckn1EL8E"
      },
      "source": [
        "## **Motivación**"
      ]
    },
    {
      "cell_type": "markdown",
      "metadata": {
        "id": "3_Z97EfHHV12"
      },
      "source": [
        "Llamaremos al producto de Kronecker $(\\otimes)$ 'producto tensorial'. Como consecuencia del producto mixto del producto tensorial se cumple que \n",
        "$$\n",
        "A\\otimes B = (A\\otimes\\mathbb{1})(\\mathbb{1}\\otimes B).\n",
        "$$ \n",
        "\n",
        "Para convencernos de que esto es cierto vamos a comprobar la siguiente igualdad:\n",
        "$$\\sigma_1\\otimes\\sigma_3 \\stackrel{?}{=} (\\sigma_1\\otimes\\mathbb{1})(\\mathbb{1}\\otimes\\sigma_3).$$\n",
        "\n",
        "¿Bloques de código para qué necesitamos? \n",
        "\n",
        "1. Calcular el producto tensorial\n",
        "2. Multiplicar matrices\n",
        "3. Comparar si los elementos de matriz de dos matrices son iguales"
      ]
    },
    {
      "cell_type": "markdown",
      "metadata": {
        "id": "RTg8CBB_Ed4A"
      },
      "source": [
        "### Recopilemos los bloques de código necesarios:"
      ]
    },
    {
      "cell_type": "code",
      "metadata": {
        "colab": {
          "base_uri": "https://localhost:8080/"
        },
        "id": "tpLbLltTAW84",
        "outputId": "06bdf37c-7e8d-4e58-a776-af87389d8ca5"
      },
      "source": [
        "# Producto de Kronecker: implementación del formulazo\n",
        "\n",
        "#   1. Inicializar una matriz de (mn)x(pq) con ceros en todas sus entradas\n",
        "m = len(A)\n",
        "n = len(A[0])\n",
        "p = len(B)\n",
        "q = len(B[0])\n",
        "\n",
        "output = []\n",
        "for row in range(m*p):\n",
        "  output.append([])\n",
        "  for column in range(n*q):\n",
        "    output[row].append(0)\n",
        "\n",
        "#   2. Aplicar el formulazo para calcular cada elemento de matriz de la matriz\n",
        "#      resultante.\n",
        "for i in range(m):\n",
        "  for j in range(n):\n",
        "    for k in range(p):\n",
        "      for l in range(q):\n",
        "        alpha = p*i + k\n",
        "        beta = q*j + l\n",
        "        output[alpha][beta] = A[i][j]*B[k][l]\n",
        "\n",
        "print()\n",
        "for row in output:\n",
        "  print(row)"
      ],
      "execution_count": null,
      "outputs": [
        {
          "output_type": "stream",
          "text": [
            "\n",
            "[0, 0, 0, 1]\n",
            "[0, 0, 0, 1]\n",
            "[0, 0, 0, 1]\n",
            "[0, 0, 0, 1]\n"
          ],
          "name": "stdout"
        }
      ]
    },
    {
      "cell_type": "code",
      "metadata": {
        "colab": {
          "base_uri": "https://localhost:8080/"
        },
        "id": "Bie9oy7tHSGD",
        "outputId": "834fc775-fe0d-4a78-eb39-140ac4aa2b2d"
      },
      "source": [
        "# Matrix multiplication\n",
        "\n",
        "A = pauli0\n",
        "B = pauli1\n",
        "\n",
        "#   1. Inicializar una matriz de (m)x(p) con ceros en todas sus entradas\n",
        "m = len(A)\n",
        "n = len(A[0])\n",
        "p = len(B)\n",
        "\n",
        "output = []\n",
        "for row in range(m):\n",
        "  output.append([])\n",
        "  for column in range(p):\n",
        "    output[row].append(0)\n",
        "\n",
        "#   2. Aplicar el formulazo de multiplicación de matrices para calcular\n",
        "#      cada elemento de matriz\n",
        "for i in range(m):\n",
        "  for j in range(p):\n",
        "    for k in range(n):\n",
        "      output[i][j] += A[i][k]*B[k][j]\n",
        "\n",
        "for row in output:\n",
        "  print(row)"
      ],
      "execution_count": null,
      "outputs": [
        {
          "output_type": "stream",
          "text": [
            "[0, 1]\n",
            "[1, 0]\n"
          ],
          "name": "stdout"
        }
      ]
    },
    {
      "cell_type": "markdown",
      "metadata": {
        "id": "Dc2MIE77FVkH"
      },
      "source": [
        "En ninguna clase previa hemos realizado algún programa que compare matrices, así que toca hacerla:\n",
        "\n",
        "Entrada: matrices A y B\n",
        "\n",
        "Salida: Valor de verdad con la igualdad de A y B\n",
        "\n",
        "Algoritmo: \n",
        "\n",
        "1.   Definir A y B (A y B de igual dimensión)\n",
        "2.   Inicializar una variable booleana con valor 'True' que almacenará el valor de salida del programa\n",
        "3.   Comprobar elemento por elemento si son iguales, si alguno no es igual:\n",
        "     1. Cambiar el valor de la variable del paso 2 a 'False' y dejar de comparar los elementos.\n",
        "\n"
      ]
    },
    {
      "cell_type": "code",
      "metadata": {
        "colab": {
          "base_uri": "https://localhost:8080/"
        },
        "id": "FwOZS4PCM7q2",
        "outputId": "4179db62-b302-4cc0-a733-4ac58de73cf9"
      },
      "source": [
        "# Comparación de dos matrices\n",
        "\n",
        "# 1.   Definir A y B (A y B de igual dimensión)\n",
        "A = pauli0\n",
        "B = pauli2\n",
        "\n",
        "# 2.   Inicializar una variable booleana con valor 'True' que almacenará el valor de salida del programa\n",
        "equal = True\n",
        "\n",
        "# 3.   Comprobar elemento por elemento si son iguales, si alguno no es igual:\n",
        "#      1. Cambiar el valor de la variable del paso 2 a 'False' y dejar de comparar los elementos.\n",
        "size = len(A)\n",
        "for i in range(size):\n",
        "  for j in range(size):\n",
        "    if A[i][j] != B[i][j]:\n",
        "      equal = False\n",
        "      break\n",
        "  if not equal:\n",
        "    break\n",
        "\n",
        "print(equal)"
      ],
      "execution_count": null,
      "outputs": [
        {
          "output_type": "stream",
          "text": [
            "False\n"
          ],
          "name": "stdout"
        }
      ]
    },
    {
      "cell_type": "markdown",
      "metadata": {
        "id": "fSE2Nv9kExiv"
      },
      "source": [
        "### Ahora definamos los pasos a seguir y generalidades del programa:"
      ]
    },
    {
      "cell_type": "markdown",
      "metadata": {
        "id": "IOwl7yfnEuf_"
      },
      "source": [
        "Entrada: matrices de Pauli $\\sigma_1, \\sigma_3$ y la identidad $\\mathbb{1}$\n",
        "\n",
        "Salida: Valor de verdad de la igualdad\n",
        "\n",
        "Algoritmo: \n",
        "\n",
        "1. Definir las matrices de Pauli\n",
        "2. Hacer el producto tensorial $\\sigma_1\\otimes\\sigma_3$\n",
        "3. Hacer el producto tensorial $\\sigma_1\\otimes\\mathbb{1}$\n",
        "4. Hacer el producto tensorial $\\mathbb{1}\\otimes\\sigma_3$\n",
        "5. Hacer el producto matricial $(\\sigma_1\\otimes\\mathbb{1})(\\mathbb{1}\\otimes\\sigma_3)$\n",
        "6. Comparar $\\sigma_1\\otimes\\sigma_3 = (\\sigma_1\\otimes\\mathbb{1})(\\mathbb{1}\\otimes\\sigma_3)$ y devolver un valor booleano"
      ]
    },
    {
      "cell_type": "code",
      "metadata": {
        "colab": {
          "base_uri": "https://localhost:8080/"
        },
        "id": "vNTEvKaiCd5n",
        "outputId": "891316b8-d487-4d18-c7c1-3b8bac7386ad"
      },
      "source": [
        "# 1. Definir las matrices de Pauli\n",
        "pauli0 = [[1,0],[0,1]]\n",
        "pauli1 = [[0,1],[1,0]]\n",
        "pauli2 = [[0,-1j],[1j,0]]\n",
        "pauli3 = [[1,0],[0,-1]]\n",
        "\n",
        "# 2. Hacer el producto tensorial $\\sigma_1\\otimes\\sigma_3$\n",
        "A = pauli1\n",
        "B = pauli3\n",
        "\n",
        "m = len(A)\n",
        "n = len(A[0])\n",
        "p = len(B)\n",
        "q = len(B[0])\n",
        "\n",
        "output = []\n",
        "for row in range(m*p):\n",
        "  output.append([])\n",
        "  for column in range(n*q):\n",
        "    output[row].append(0)\n",
        "\n",
        "for i in range(m):\n",
        "  for j in range(n):\n",
        "    for k in range(p):\n",
        "      for l in range(q):\n",
        "        alpha = p*i + k\n",
        "        beta = q*j + l\n",
        "        output[alpha][beta] = A[i][j]*B[k][l]\n",
        "\n",
        "output1 = output\n",
        "\n",
        "print()\n",
        "for row in output:\n",
        "  print(row)\n",
        "\n",
        "#3. Hacer el producto tensorial $\\sigma_1\\otimes\\mathbb{1}$\n",
        "\n",
        "A = pauli1\n",
        "B = pauli0\n",
        "\n",
        "m = len(A)\n",
        "n = len(A[0])\n",
        "p = len(B)\n",
        "q = len(B[0])\n",
        "\n",
        "output = []\n",
        "for row in range(m*p):\n",
        "  output.append([])\n",
        "  for column in range(n*q):\n",
        "    output[row].append(0)\n",
        "\n",
        "for i in range(m):\n",
        "  for j in range(n):\n",
        "    for k in range(p):\n",
        "      for l in range(q):\n",
        "        alpha = p*i + k\n",
        "        beta = q*j + l\n",
        "        output[alpha][beta] = A[i][j]*B[k][l]\n",
        "\n",
        "A1 = output\n",
        "\n",
        "print()\n",
        "for row in output:\n",
        "  print(row)\n",
        "\n",
        "# 4. Hacer el producto tensorial $\\mathbb{1}\\otimes\\sigma_3$\n",
        "\n",
        "A = pauli0\n",
        "B = pauli3\n",
        "\n",
        "m = len(A)\n",
        "n = len(A[0])\n",
        "p = len(B)\n",
        "q = len(B[0])\n",
        "\n",
        "output = []\n",
        "for row in range(m*p):\n",
        "  output.append([])\n",
        "  for column in range(n*q):\n",
        "    output[row].append(0)\n",
        "\n",
        "for i in range(m):\n",
        "  for j in range(n):\n",
        "    for k in range(p):\n",
        "      for l in range(q):\n",
        "        alpha = p*i + k\n",
        "        beta = q*j + l\n",
        "        output[alpha][beta] = A[i][j]*B[k][l]\n",
        "\n",
        "B1 = output\n",
        "\n",
        "print()\n",
        "for row in output:\n",
        "  print(row)\n",
        "\n",
        "# 5. Hacer el producto matricial $(\\sigma_1\\otimes\\mathbb{1})(\\mathbb{1}\\otimes\\sigma_3)$\n",
        "\n",
        "m = len(A1)\n",
        "n = len(A1[0])\n",
        "p = len(B1)\n",
        "\n",
        "output = []\n",
        "for row in range(m):\n",
        "  output.append([])\n",
        "  for column in range(p):\n",
        "    output[row].append(0)\n",
        "\n",
        "for i in range(m):\n",
        "  for j in range(p):\n",
        "    for k in range(n):\n",
        "      output[i][j] += A1[i][k]*B1[k][j]\n",
        "\n",
        "output2 = output\n",
        "\n",
        "print('\\nLado derecho:')\n",
        "for row in output:\n",
        "  print(row)\n",
        "\n",
        "# 6. Comparar $\\sigma_1\\otimes\\sigma_3 = (\\sigma_1\\otimes\\mathbb{1})(\\mathbb{1}\\otimes\\sigma_3)$ y devolver un valor booleano\n",
        "\n",
        "A = output1\n",
        "B = output2\n",
        "\n",
        "size = len(A)\n",
        "\n",
        "# Vamos a asumir que el usuario es inteligente e ingresa matrices del mismo tamaño\n",
        "equal = True\n",
        "for i in range(size):\n",
        "  for j in range(size):\n",
        "    if A[i][j] != B[i][j]:\n",
        "      equal = False\n",
        "      break\n",
        "  if not equal:\n",
        "    break\n",
        "\n",
        "print()\n",
        "print(equal)"
      ],
      "execution_count": null,
      "outputs": [
        {
          "output_type": "stream",
          "text": [
            "\n",
            "[0, 0, 1, 0]\n",
            "[0, 0, 0, -1]\n",
            "[1, 0, 0, 0]\n",
            "[0, -1, 0, 0]\n",
            "\n",
            "[0, 0, 1, 0]\n",
            "[0, 0, 0, 1]\n",
            "[1, 0, 0, 0]\n",
            "[0, 1, 0, 0]\n",
            "\n",
            "[1, 0, 0, 0]\n",
            "[0, -1, 0, 0]\n",
            "[0, 0, 1, 0]\n",
            "[0, 0, 0, -1]\n",
            "\n",
            "Lado derecho:\n",
            "[0, 0, 1, 0]\n",
            "[0, 0, 0, -1]\n",
            "[1, 0, 0, 0]\n",
            "[0, -1, 0, 0]\n",
            "\n",
            "True\n"
          ],
          "name": "stdout"
        }
      ]
    },
    {
      "cell_type": "markdown",
      "metadata": {
        "id": "HFkvUeHQK5IJ"
      },
      "source": [
        "**Demasiado vergueo :S.** Este código se podría hacer mucho más limpio, ordenado y legible si usamos funciones."
      ]
    },
    {
      "cell_type": "markdown",
      "metadata": {
        "id": "samrA71GI8UH"
      },
      "source": [
        "## **Sintáxis de una función**\n",
        "\n"
      ]
    },
    {
      "cell_type": "markdown",
      "metadata": {
        "id": "vmmPdaQ9R6mq"
      },
      "source": [
        "```\n",
        "def <nombre función>(<arg1>, <arg2>, ..., <argN>):\n",
        "  <documentación>\n",
        "  <bloque de código>\n",
        "  return <variable a retornar (si es que retorna algo)>\n",
        "```\n",
        "- Las varianbles que viven dentro de una función son **variables locales**. Es decir, son variables que no se pueden instanciar afuera de la función.\n",
        "- También existen **variables globales** que viven en todo el programa. Es decir, al instanciar una variable global dentro de una función el valor de la variable se modifica dentro y fuera de la función. \n",
        "\n",
        "**Documentación**\n",
        "\n",
        "En el espíritu de usar la programación como una herramienta para resolver problemas de manera eficiente siempre debemos programar pensando que el código que estamos haciendo se pueda reutilizar en el futuro. En ese sentido, la documentación de las funciones, así como la de un programa (la información en los comentarios y el preámbulo), es de suma importancia para que el autor y cualquier otra persona sea capaz de entender el procedimiento implementado en una función, para qué sirve y cómo utilizarla. \n"
      ]
    },
    {
      "cell_type": "markdown",
      "metadata": {
        "id": "tMaxQwaJMFQA"
      },
      "source": [
        "### Ejemplo de una correcta implementación de una función\n",
        "\n",
        "\n",
        "\n",
        "```\n",
        "def kronecker(A, B):\n",
        "  #   Producto de Kronecker: \n",
        "  #   Implementación del producto de Kronecker de dos matrices A y B de \n",
        "  #   dimensiones mxn y pxq, respectivamete, utlizando la fórmula\n",
        "  #   c_{p(i-1)+k, q(j-1)+l}=a_{ij}b_{kl}. Devuelve A tensor B.\n",
        "  #   \n",
        "  #   Ejemplo:  \n",
        "  #   - kronecker([[1, 0],[0, 1]], [[0, 1],[1, 0]]) = [[0, 1, 0, 0],[1, 0, 0, 0]\n",
        "  #                                                  ,[0, 0, 0, 1],[0, 0, 1, 0]]\n",
        "\n",
        "  #   1. Inicializar una matriz de (mn)x(pq) con ceros en todas sus entradas\n",
        "  m = len(A)\n",
        "  n = len(A[0])\n",
        "  p = len(B)\n",
        "  q = len(B[0])\n",
        "\n",
        "  output = []\n",
        "  for row in range(m*p):\n",
        "    output.append([])\n",
        "    for column in range(n*q):\n",
        "      output[row].append(0)\n",
        "\n",
        "  #   2. Aplicar el formulazo para calcular cada elemento de matriz de la matriz\n",
        "  #      resultante.\n",
        "  for i in range(m):\n",
        "    for j in range(n):\n",
        "      for k in range(p):\n",
        "        for l in range(q):\n",
        "          alpha = p*i + k\n",
        "          beta = q*j + l\n",
        "          output[alpha][beta] = A[i][j]*B[k][l]\n",
        "  return output\n",
        "```\n",
        "\n"
      ]
    },
    {
      "cell_type": "markdown",
      "metadata": {
        "id": "iEN-vCq3I2dE"
      },
      "source": [
        "## **Resolviendo $\\sigma_1\\otimes\\sigma_3 \\stackrel{?}{=} (\\sigma_1\\otimes\\mathbb{1})(\\mathbb{1}\\otimes\\sigma_3)$ en un programa con funciones**"
      ]
    },
    {
      "cell_type": "markdown",
      "metadata": {
        "id": "7WT1-ktrJbxU"
      },
      "source": [
        "Una vez mas, definamos los pasos a seguir para resolver el problema, pero ahorta implementando el uso de funciones. \n",
        "\n",
        "Entrada: matrices de Pauli $\\sigma_1, \\sigma_3$ y la identidad $\\mathbb{1}$\n",
        "\n",
        "Salida: Valor de verdad de la igualdad\n",
        "\n",
        "Algoritmo: \n",
        "\n",
        "1. Definir las matrices de Pauli\n",
        "2. Definir las funciones del producto tensorial, multiplicación de matrices, comparación de matrices e impresión bonita de matrices\n",
        "2. Hacer el producto tensorial $\\sigma_1\\otimes\\sigma_3$\n",
        "3. Hacer el producto tensorial $\\sigma_1\\otimes\\mathbb{1}$\n",
        "4. Hacer el producto tensorial $\\mathbb{1}\\otimes\\sigma_3$\n",
        "5. Hacer el producto matricial $(\\sigma_1\\otimes\\mathbb{1})(\\mathbb{1}\\otimes\\sigma_3)$\n",
        "6. Comparar $\\sigma_1\\otimes\\sigma_3 = (\\sigma_1\\otimes\\mathbb{1})(\\mathbb{1}\\otimes\\sigma_3)$ y devolver un valor booleano"
      ]
    },
    {
      "cell_type": "markdown",
      "metadata": {
        "id": "4dDPSi-iJwlC"
      },
      "source": [
        "Juela, tenemos más pasos que para el programa que hicimos arriba D: Sin embargo, vamos a ver que definiendo las funciones el código es más corto, además de mucho más ordenado y limpio. "
      ]
    },
    {
      "cell_type": "code",
      "metadata": {
        "colab": {
          "base_uri": "https://localhost:8080/"
        },
        "id": "PJipjMs6JVy2",
        "outputId": "550b7458-d95d-420a-94ff-86c96d9933b3"
      },
      "source": [
        "# 1. Definir las matrices de Pauli\n",
        "pauli0 = [[1,0],[0,1]]\n",
        "pauli1 = [[0,1],[1,0]]\n",
        "pauli2 = [[0,-1j],[1j,0]]\n",
        "pauli3 = [[1,0],[0,-1]]\n",
        "\n",
        "# 2. Definir las funciones del producto tensorial, multiplicación de matrices, \n",
        "#    comparación de matrices e impresión bonita de matrices\n",
        "def kronecker(A, B):\n",
        "  #   Producto de Kronecker: \n",
        "  #   Implementación del producto de Kronecker de dos matrices A y B de \n",
        "  #   dimensiones mxn y pxq, respectivamete, utlizando la fórmula\n",
        "  #   c_{p(i-1)+k, q(j-1)+l}=a_{ij}b_{kl}. Devuelve A tensor B.\n",
        "  #   \n",
        "  #   Ejemplo:  \n",
        "  #   kronecker([[1,0],[0,1]], [[0,1],[1,0]]) = [[0,1,0,0],[1,0,0,0]\n",
        "  #                                             ,[0,0,0,1],[0,0,1,0]]\n",
        "\n",
        "  #   1. Inicializar una matriz de (mn)x(pq) con ceros en todas sus entradas\n",
        "  m = len(A)\n",
        "  n = len(A[0])\n",
        "  p = len(B)\n",
        "  q = len(B[0])\n",
        "\n",
        "  output = []\n",
        "  for row in range(m*p):\n",
        "    output.append([])\n",
        "    for column in range(n*q):\n",
        "      output[row].append(0)\n",
        "\n",
        "  #   2. Aplicar el formulazo para calcular cada elemento de matriz de la matriz\n",
        "  #      resultante.\n",
        "  for i in range(m):\n",
        "    for j in range(n):\n",
        "      for k in range(p):\n",
        "        for l in range(q):\n",
        "          alpha = p*i + k\n",
        "          beta = q*j + l\n",
        "          output[alpha][beta] = A[i][j]*B[k][l]\n",
        "  return output\n",
        "\n",
        "def matmul(A, B):\n",
        "  #   Multiplicación de matrices:\n",
        "  #   Implementación de la multiplicación de dos matrices A y B de dimensiones\n",
        "  #   mxn y nxp, respectivamente, utilizando la fórmula\n",
        "  #   c_{ij}=\\sum_{k=1}^{n}a_{ik}b_{kj}. Devuelve A.B.\n",
        "  #\n",
        "  #   Ejemplo \n",
        "  #   matmul([[0, -1j],[1j, 0]], [[0, 1],[1, 0]]) = [[-1j, 0j],[0j, 1j]]\n",
        "\n",
        "  #   1. Inicializar una matriz de (m)x(p) con ceros en todas sus entradas\n",
        "  m = len(A)\n",
        "  n = len(A[0])\n",
        "  p = len(B)\n",
        "\n",
        "  output = []\n",
        "  for row in range(m):\n",
        "    output.append([])\n",
        "    for column in range(p):\n",
        "      output[row].append(0)\n",
        "\n",
        "  #   2. Aplicar el formulazo de multiplicación de matrices para calcular\n",
        "  #      cada elemento de matriz\n",
        "  for i in range(m):\n",
        "    for j in range(p):\n",
        "      for k in range(n):\n",
        "        output[i][j] += A[i][k]*B[k][j]\n",
        "  return output\n",
        "\n",
        "def equalM(A, B):\n",
        "  #   Comparación de matrices:\n",
        "  #   Compara si dos matrices A y B son iguales. Devuelve valor de verdad.\n",
        "  #\n",
        "  #   Ejemplos: \n",
        "  #   1. equalM([[0, 1],[1, 0]], [[0, 1],[1, 0]]) = True\n",
        "  #   2. equalM([[0, 1],[1, 0]], [[1, 0],[0, 1]]) = False\n",
        "\n",
        "  #   1.   Inicializar una variable booleana con valor 'True' que almacenará \n",
        "  #        el valor de salida del programa\n",
        "  equal = True\n",
        "\n",
        "  #   2.   Comprobar elemento por elemento si son iguales, si alguno no es igual:\n",
        "  #      1. Cambiar el valor de la variable del paso 2 a 'False' y dejar de \n",
        "  #         comparar los elementos.\n",
        "  size = len(A)\n",
        "  for i in range(size):\n",
        "    for j in range(size):\n",
        "      if A[i][j] != B[i][j]:\n",
        "        equal = False\n",
        "        break\n",
        "    if not equal:\n",
        "      break\n",
        "  return equal\n",
        "\n",
        "def printM(matrix):\n",
        "  #   Imprimir matrices:\n",
        "  #   Imprime una lista de listas en forma de matriz.\n",
        "  #\n",
        "  #   Ejemplo:\n",
        "  #   - printM([[1,0],[0,1]) = [1,0]\n",
        "  #                            [0,1]\n",
        "\n",
        "  #   Imprimir fila por fila \n",
        "  for row in matrix:\n",
        "    print(row)\n",
        "  return\n",
        "\n",
        "# 3. Hacer el producto tensorial $\\sigma_1\\otimes\\sigma_3$\n",
        "left = kronecker(pauli1, pauli3)\n",
        "printM(left)\n",
        "print()\n",
        "\n",
        "# 4. Hacer el producto tensorial $\\sigma_1\\otimes\\mathbb{1}$\n",
        "r1 = kronecker(pauli1, pauli0)\n",
        "printM(r1)\n",
        "print()\n",
        "\n",
        "# 5. Hacer el producto tensorial $\\mathbb{1}\\otimes\\sigma_3$\n",
        "r2 = kronecker(pauli0, pauli3)\n",
        "printM(r2)\n",
        "print()\n",
        "\n",
        "# 6. Hacer el producto matricial $(\\sigma_1\\otimes\\mathbb{1})(\\mathbb{1}\\otimes\\sigma_3)$\n",
        "right = matmul(r1, r2)\n",
        "printM(right)\n",
        "print()\n",
        "\n",
        "# 7. Comparar $\\sigma_1\\otimes\\sigma_3 = \n",
        "#    (\\sigma_1\\otimes\\mathbb{1})(\\mathbb{1}\\otimes\\sigma_3)$ \n",
        "#    y devolver un valor booleano\n",
        "equalM(left, right)"
      ],
      "execution_count": 1,
      "outputs": [
        {
          "output_type": "stream",
          "text": [
            "[0, 0, 1, 0]\n",
            "[0, 0, 0, -1]\n",
            "[1, 0, 0, 0]\n",
            "[0, -1, 0, 0]\n",
            "\n",
            "[0, 0, 1, 0]\n",
            "[0, 0, 0, 1]\n",
            "[1, 0, 0, 0]\n",
            "[0, 1, 0, 0]\n",
            "\n",
            "[1, 0, 0, 0]\n",
            "[0, -1, 0, 0]\n",
            "[0, 0, 1, 0]\n",
            "[0, 0, 0, -1]\n",
            "\n",
            "[0, 0, 1, 0]\n",
            "[0, 0, 0, -1]\n",
            "[1, 0, 0, 0]\n",
            "[0, -1, 0, 0]\n",
            "\n"
          ],
          "name": "stdout"
        },
        {
          "output_type": "execute_result",
          "data": {
            "text/plain": [
              "True"
            ]
          },
          "metadata": {
            "tags": []
          },
          "execution_count": 1
        }
      ]
    },
    {
      "cell_type": "markdown",
      "metadata": {
        "id": "d5YBHrwOTNZF"
      },
      "source": [
        "## **Tarea**"
      ]
    },
    {
      "cell_type": "markdown",
      "metadata": {
        "id": "TOq3P3E6TefE"
      },
      "source": [
        "1. **Estados entrelazados en la base de productos tensoriales de las matrices de Pauli.** Las matrices $$\\rho_1=\\left(\n",
        "\\begin{array}{cccc}\n",
        " 1 & 0 & 0 & 1 \\\\\n",
        " 0 & 0 & 0 & 0 \\\\\n",
        " 0 & 0 & 0 & 0 \\\\\n",
        " 1 & 0 & 0 & 1 \\\\\n",
        "\\end{array}\n",
        "\\right)$$ y \n",
        "$$\\rho_2 = \\left(\n",
        "\\begin{array}{cccc}\n",
        " 0 & 0 & 0 & 0 \\\\\n",
        " 1 & 0 & 0 & 1 \\\\\n",
        " -1 & 0 & 0 & -1 \\\\\n",
        " 0 & 0 & 0 & 0 \\\\\n",
        "\\end{array}\n",
        "\\right)$$\n",
        "representan estados cuánticos entrelazados de un sistema de dos partículas de espín $1/2$, como dos electrones o dos fotones. Estas matrices pueden escribirse en la siguiente representación\n",
        "$$[\\rho]_{\\sigma}=\\sum_{i,j=0}^{3}r_{ij}\\sigma_i\\otimes\\sigma_j,$$\n",
        "donde $$r_{ij}=\\text{Tr}\\big((\\sigma_i\\otimes\\sigma_j)^{\\dagger}\\rho\\big)$$ y $\\{\\sigma_0,\\sigma_1,\\sigma_2,\\sigma_3\\}$ son las matrices de Pauli $(\\sigma_0=\\mathbb{1})$.\n",
        "En un programa escriba todos los problemas del taller del viernes en funciones, agregando también el determinante, el producto de Kronecker, multiplicación de matrices y el reordenamiento de reshuffle. Documente adecuadamente sus funciones. Luego, de manera similar a lo visto en clase utilice las funciones de álgebra lineal para encontrar $\\rho_1$ y $\\rho_2$ en la representación de $[\\rho]_{\\sigma}$ (i.e. calcule las $r_{ij}$ para cada $\\rho_i$).\n",
        "\n",
        "2. **Criterio de Sylvester**. Se dice que una matriz $A$ es Hermítica si y sólo si $$A^{\\dagger}=A.$$ Con lo que hemos aprendido e implementado hasta ahora somos capaces de evaluar la positividad definida y semidefinida de matrices Hermíticas usando el determinante. El criterio de Silvester establece que es necesario y suficiente que todos los *leading principal minors* de una matriz Hermítica $A$ sean mayores a cero para que $A$ sea positiva definida. Asi mismo, es necesario y suficiente que todos los *principal minors* de una matriz Hermítica $A$ sean no negativos para que $A$ sea positiva semidefinida (revisé [acá](https://en.wikipedia.org/wiki/Minor_(linear_algebra)) qué son los *minors* de una matriz).\n",
        "\n",
        "  Implemente dos funciones con el criterio de Sylvester para positividad definida y semidefinida de matrices Hermíticas, respectivamente. Las funciones deben devolver un valor booleano. Con dichas funciones evalúe la positividad de \n",
        "  las matrices $\\rho_1$ y\n",
        "  $$A=\\left(\n",
        "\\begin{array}{cccc}\n",
        " 0.9\\, +0. i & 0.\\, +0. i & 0.\\, +0. i & 0.1\\, +0. i \\\\\n",
        " 0.\\, +0. i & 0.35\\, +0. i & -0.15+0. i & 0.\\, +0. i \\\\\n",
        " 0.\\, +0. i & -0.15+0. i & 0.35\\, +0. i & 0.\\, +0. i \\\\\n",
        " 0.1\\, +0. i & 0.\\, +0. i & 0.\\, +0. i & 0.9\\, +0. i \\\\\n",
        "\\end{array}\n",
        "\\right).$$\n",
        "\n"
      ]
    }
  ]
}