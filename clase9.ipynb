{
  "nbformat": 4,
  "nbformat_minor": 0,
  "metadata": {
    "colab": {
      "name": "clase9.ipynb",
      "provenance": [],
      "authorship_tag": "ABX9TyNFeAJV3PggNCo3TmLBAiH3",
      "include_colab_link": true
    },
    "kernelspec": {
      "name": "python3",
      "display_name": "Python 3"
    }
  },
  "cells": [
    {
      "cell_type": "markdown",
      "metadata": {
        "id": "view-in-github",
        "colab_type": "text"
      },
      "source": [
        "<a href=\"https://colab.research.google.com/github/DSarceno/CursoProgra2020/blob/master/clase9.ipynb\" target=\"_parent\"><img src=\"https://colab.research.google.com/assets/colab-badge.svg\" alt=\"Open In Colab\"/></a>"
      ]
    },
    {
      "cell_type": "markdown",
      "metadata": {
        "id": "UkRJhqMk23RP"
      },
      "source": [
        "# **Funciones**\n",
        "Por: José Alfredo de León\n",
        "\n",
        "10.12.2020\n",
        "\n",
        "## Plan para hoy:\n",
        "- Funciones \n",
        "\n"
      ]
    },
    {
      "cell_type": "markdown",
      "metadata": {
        "id": "d-IZTXcI5o93"
      },
      "source": [
        "En programación el término *'función'* es un término que va más allá de una función matemática. Sin embargo, en la raíz ambos términos sí que son similares. Por ejemplo: ¿cómo se lee en palabras la siguiente función $f(x)=3x+1$? \n",
        "\n",
        "Muy en el fondo, una función matemática es un conjunto de instrucciones, al igual que una función en un lenguaje de programación. **Una función es un conjunto de líneas de código que se pueden ejecutar cuando sea y donde sea en un programa.** Esta definición es importante para entender el espíritu en el que se crea una función.\n",
        "\n",
        "Podemos pensar que una función es un mini programa en sí mismo: una función debe tener variables de entrada y de salida, igual que un programa.\n",
        "\n",
        "Las funciones permiten hacer un código más ordenado y limpio cuando se debe ejecutar más de una vez un mismo bloque de código a lo largo de un programa (o en diferentes programas). Hasta ahora, ya tenemos cierta experiencia con funciones, pues hemos estado utilizando las funciones intrínsecas de python: *range(), list(), int(), max()*. **¡Cuidado!** No se deben confundir a las funciones con los métodos: *append(), remove(), pop()* son métodos. Los métodos modifican a un objeto a través del operador '.'. Los métodos son algo particular del paradigma de POO y python es un lenguaje con enfoque orientado a objetos, sin embargo, no es el caso de todos los lenguajes de programación."
      ]
    },
    {
      "cell_type": "code",
      "metadata": {
        "colab": {
          "base_uri": "https://localhost:8080/"
        },
        "id": "JW1TvKF77cmh",
        "outputId": "c660454a-7286-46e7-905a-1c7e980f310c"
      },
      "source": [
        "A = []\n",
        "size = 2\n",
        "for j in range(size):\n",
        "  A.append([i for i in range(size)])\n",
        "\n",
        "for row in A:\n",
        "  print(row)\n",
        "\n",
        "print()\n",
        "\n",
        "B = []\n",
        "size = 2\n",
        "for j in range(size):\n",
        "  B.append([i for i in range(size)])\n",
        "\n",
        "for row in B:\n",
        "  print(row)"
      ],
      "execution_count": 31,
      "outputs": [
        {
          "output_type": "stream",
          "text": [
            "[0, 1]\n",
            "[0, 1]\n",
            "\n",
            "[0, 1]\n",
            "[0, 1]\n"
          ],
          "name": "stdout"
        }
      ]
    },
    {
      "cell_type": "markdown",
      "metadata": {
        "id": "3_Z97EfHHV12"
      },
      "source": [
        "Comprobemos lo siguiente: \n",
        "\n",
        "$$\\sigma_1\\otimes\\sigma_3 = (\\sigma_1\\otimes\\mathbb{1})(\\mathbb{1}\\otimes\\sigma_3)$$\n",
        "\n",
        "¿Bloques de código para qué necesitamos? \n",
        "\n",
        "1. Calcular el producto tensorial\n",
        "2. Multiplicar matrices\n",
        "3. Comparar si los elementos de matriz de dos matrices son iguales\n",
        "\n",
        "Pasos a realizar: \n",
        "\n",
        "1. Definir las matrices de Pauli\n",
        "2. Hacer el producto tensorial $\\sigma_1\\otimes\\sigma_3$\n",
        "3. Hacer el producto tensorial $\\sigma_1\\otimes\\mathbb{1}$\n",
        "4. Hacer el producto tensorial $\\mathbb{1}\\otimes\\sigma_3$\n",
        "5. Hacer el producto matricial $(\\sigma_1\\otimes\\mathbb{1})(\\mathbb{1}\\otimes\\sigma_3)$\n",
        "6. Comparar $\\sigma_1\\otimes\\sigma_3 = (\\sigma_1\\otimes\\mathbb{1})(\\mathbb{1}\\otimes\\sigma_3)$ y devolver un valor booleano"
      ]
    },
    {
      "cell_type": "code",
      "metadata": {
        "id": "0qWNImlqL6Tg"
      },
      "source": [
        "pauli0 = [[1,0],[0,1]]\n",
        "pauli1 = [[0,1],[1,0]]\n",
        "pauli2 = [[0,-1j],[1j,0]]\n",
        "pauli3 = [[1,0],[0,-1]]"
      ],
      "execution_count": 44,
      "outputs": []
    },
    {
      "cell_type": "code",
      "metadata": {
        "colab": {
          "base_uri": "https://localhost:8080/"
        },
        "id": "tpLbLltTAW84",
        "outputId": "06bdf37c-7e8d-4e58-a776-af87389d8ca5"
      },
      "source": [
        "# Kronecker's product\n",
        "\n",
        "m = len(A)\n",
        "n = len(A[0])\n",
        "p = len(B)\n",
        "q = len(B[0])\n",
        "\n",
        "output = []\n",
        "for row in range(m*p):\n",
        "  output.append([])\n",
        "  for column in range(n*q):\n",
        "    output[row].append(0)\n",
        "\n",
        "for i in range(m):\n",
        "  for j in range(n):\n",
        "    for k in range(p):\n",
        "      for l in range(q):\n",
        "        alpha = p*i + k\n",
        "        beta = q*j + l\n",
        "        output[alpha][beta] = A[i][j]*B[k][l]\n",
        "\n",
        "print()\n",
        "for row in output:\n",
        "  print(row)"
      ],
      "execution_count": 21,
      "outputs": [
        {
          "output_type": "stream",
          "text": [
            "\n",
            "[0, 0, 0, 1]\n",
            "[0, 0, 0, 1]\n",
            "[0, 0, 0, 1]\n",
            "[0, 0, 0, 1]\n"
          ],
          "name": "stdout"
        }
      ]
    },
    {
      "cell_type": "code",
      "metadata": {
        "colab": {
          "base_uri": "https://localhost:8080/"
        },
        "id": "Bie9oy7tHSGD",
        "outputId": "834fc775-fe0d-4a78-eb39-140ac4aa2b2d"
      },
      "source": [
        "# Matrix multiplication\n",
        "\n",
        "A = pauli0\n",
        "B = pauli1\n",
        "\n",
        "m = len(A)\n",
        "n = len(A[0])\n",
        "p = len(B)\n",
        "\n",
        "output = []\n",
        "for row in range(m):\n",
        "  output.append([])\n",
        "  for column in range(p):\n",
        "    output[row].append(0)\n",
        "\n",
        "for i in range(m):\n",
        "  for j in range(p):\n",
        "    for k in range(n):\n",
        "      output[i][j] += A[i][k]*B[k][j]\n",
        "\n",
        "for row in output:\n",
        "  print(row)"
      ],
      "execution_count": 40,
      "outputs": [
        {
          "output_type": "stream",
          "text": [
            "[0, 1]\n",
            "[1, 0]\n"
          ],
          "name": "stdout"
        }
      ]
    },
    {
      "cell_type": "code",
      "metadata": {
        "colab": {
          "base_uri": "https://localhost:8080/"
        },
        "id": "FwOZS4PCM7q2",
        "outputId": "4179db62-b302-4cc0-a733-4ac58de73cf9"
      },
      "source": [
        "# Comparación de dos matrices\n",
        "\n",
        "A = pauli0\n",
        "B = pauli2\n",
        "\n",
        "size = len(A)\n",
        "\n",
        "# Vamos a asumir que el usuario es inteligente e ingresa matrices del mismo tamaño\n",
        "equal = True\n",
        "for i in range(size):\n",
        "  for j in range(size):\n",
        "    if A[i][j] != B[i][j]:\n",
        "      equal = False\n",
        "      break\n",
        "  if not equal:\n",
        "    break\n",
        "\n",
        "print(equal)"
      ],
      "execution_count": 60,
      "outputs": [
        {
          "output_type": "stream",
          "text": [
            "False\n"
          ],
          "name": "stdout"
        }
      ]
    },
    {
      "cell_type": "code",
      "metadata": {
        "colab": {
          "base_uri": "https://localhost:8080/"
        },
        "id": "vNTEvKaiCd5n",
        "outputId": "891316b8-d487-4d18-c7c1-3b8bac7386ad"
      },
      "source": [
        "# 1. Definir las matrices de Pauli\n",
        "pauli0 = [[1,0],[0,1]]\n",
        "pauli1 = [[0,1],[1,0]]\n",
        "pauli2 = [[0,-1j],[1j,0]]\n",
        "pauli3 = [[1,0],[0,-1]]\n",
        "\n",
        "# 2. Hacer el producto tensorial $\\sigma_1\\otimes\\sigma_3$\n",
        "A = pauli1\n",
        "B = pauli3\n",
        "\n",
        "m = len(A)\n",
        "n = len(A[0])\n",
        "p = len(B)\n",
        "q = len(B[0])\n",
        "\n",
        "output = []\n",
        "for row in range(m*p):\n",
        "  output.append([])\n",
        "  for column in range(n*q):\n",
        "    output[row].append(0)\n",
        "\n",
        "for i in range(m):\n",
        "  for j in range(n):\n",
        "    for k in range(p):\n",
        "      for l in range(q):\n",
        "        alpha = p*i + k\n",
        "        beta = q*j + l\n",
        "        output[alpha][beta] = A[i][j]*B[k][l]\n",
        "\n",
        "output1 = output\n",
        "\n",
        "print()\n",
        "for row in output:\n",
        "  print(row)\n",
        "\n",
        "#3. Hacer el producto tensorial $\\sigma_1\\otimes\\mathbb{1}$\n",
        "\n",
        "A = pauli1\n",
        "B = pauli0\n",
        "\n",
        "m = len(A)\n",
        "n = len(A[0])\n",
        "p = len(B)\n",
        "q = len(B[0])\n",
        "\n",
        "output = []\n",
        "for row in range(m*p):\n",
        "  output.append([])\n",
        "  for column in range(n*q):\n",
        "    output[row].append(0)\n",
        "\n",
        "for i in range(m):\n",
        "  for j in range(n):\n",
        "    for k in range(p):\n",
        "      for l in range(q):\n",
        "        alpha = p*i + k\n",
        "        beta = q*j + l\n",
        "        output[alpha][beta] = A[i][j]*B[k][l]\n",
        "\n",
        "A1 = output\n",
        "\n",
        "print()\n",
        "for row in output:\n",
        "  print(row)\n",
        "\n",
        "# 4. Hacer el producto tensorial $\\mathbb{1}\\otimes\\sigma_3$\n",
        "\n",
        "A = pauli0\n",
        "B = pauli3\n",
        "\n",
        "m = len(A)\n",
        "n = len(A[0])\n",
        "p = len(B)\n",
        "q = len(B[0])\n",
        "\n",
        "output = []\n",
        "for row in range(m*p):\n",
        "  output.append([])\n",
        "  for column in range(n*q):\n",
        "    output[row].append(0)\n",
        "\n",
        "for i in range(m):\n",
        "  for j in range(n):\n",
        "    for k in range(p):\n",
        "      for l in range(q):\n",
        "        alpha = p*i + k\n",
        "        beta = q*j + l\n",
        "        output[alpha][beta] = A[i][j]*B[k][l]\n",
        "\n",
        "B1 = output\n",
        "\n",
        "print()\n",
        "for row in output:\n",
        "  print(row)\n",
        "\n",
        "# 5. Hacer el producto matricial $(\\sigma_1\\otimes\\mathbb{1})(\\mathbb{1}\\otimes\\sigma_3)$\n",
        "\n",
        "m = len(A1)\n",
        "n = len(A1[0])\n",
        "p = len(B1)\n",
        "\n",
        "output = []\n",
        "for row in range(m):\n",
        "  output.append([])\n",
        "  for column in range(p):\n",
        "    output[row].append(0)\n",
        "\n",
        "for i in range(m):\n",
        "  for j in range(p):\n",
        "    for k in range(n):\n",
        "      output[i][j] += A1[i][k]*B1[k][j]\n",
        "\n",
        "output2 = output\n",
        "\n",
        "print('\\nLado derecho:')\n",
        "for row in output:\n",
        "  print(row)\n",
        "\n",
        "# 6. Comparar $\\sigma_1\\otimes\\sigma_3 = (\\sigma_1\\otimes\\mathbb{1})(\\mathbb{1}\\otimes\\sigma_3)$ y devolver un valor booleano\n",
        "\n",
        "A = output1\n",
        "B = output2\n",
        "\n",
        "size = len(A)\n",
        "\n",
        "# Vamos a asumir que el usuario es inteligente e ingresa matrices del mismo tamaño\n",
        "equal = True\n",
        "for i in range(size):\n",
        "  for j in range(size):\n",
        "    if A[i][j] != B[i][j]:\n",
        "      equal = False\n",
        "      break\n",
        "  if not equal:\n",
        "    break\n",
        "\n",
        "print()\n",
        "print(equal)"
      ],
      "execution_count": 67,
      "outputs": [
        {
          "output_type": "stream",
          "text": [
            "\n",
            "[0, 0, 1, 0]\n",
            "[0, 0, 0, -1]\n",
            "[1, 0, 0, 0]\n",
            "[0, -1, 0, 0]\n",
            "\n",
            "[0, 0, 1, 0]\n",
            "[0, 0, 0, 1]\n",
            "[1, 0, 0, 0]\n",
            "[0, 1, 0, 0]\n",
            "\n",
            "[1, 0, 0, 0]\n",
            "[0, -1, 0, 0]\n",
            "[0, 0, 1, 0]\n",
            "[0, 0, 0, -1]\n",
            "\n",
            "Lado derecho:\n",
            "[0, 0, 1, 0]\n",
            "[0, 0, 0, -1]\n",
            "[1, 0, 0, 0]\n",
            "[0, -1, 0, 0]\n",
            "\n",
            "True\n"
          ],
          "name": "stdout"
        }
      ]
    },
    {
      "cell_type": "markdown",
      "metadata": {
        "id": "HFkvUeHQK5IJ"
      },
      "source": [
        "**Demasiado vergueo :S.** Este código se podría hacer mucho más limpio, ordenado y legible si usamos funciones."
      ]
    },
    {
      "cell_type": "markdown",
      "metadata": {
        "id": "vmmPdaQ9R6mq"
      },
      "source": [
        "## Sintáxis de una función:\n",
        "\n",
        "\n",
        "\n",
        "```\n",
        "def <nombre función>(<arg1>, <arg2>, ..., <argN>):\n",
        "  <bloque de código>\n",
        "  return <variale a retornar (si es que retorna algo)>\n",
        "```\n",
        "\n"
      ]
    },
    {
      "cell_type": "code",
      "metadata": {
        "colab": {
          "base_uri": "https://localhost:8080/"
        },
        "id": "PJipjMs6JVy2",
        "outputId": "8fe70930-2de3-4721-dcc7-0c5ce8c39d0d"
      },
      "source": [
        "def kronecker(A, B):\n",
        "  m = len(A)\n",
        "  n = len(A[0])\n",
        "  p = len(B)\n",
        "  q = len(B[0])\n",
        "\n",
        "  output = []\n",
        "  for row in range(m*p):\n",
        "    output.append([])\n",
        "    for column in range(n*q):\n",
        "      output[row].append(0)\n",
        "\n",
        "  for i in range(m):\n",
        "    for j in range(n):\n",
        "      for k in range(p):\n",
        "        for l in range(q):\n",
        "          alpha = p*i + k\n",
        "          beta = q*j + l\n",
        "          output[alpha][beta] = A[i][j]*B[k][l]\n",
        "  return output\n",
        "\n",
        "def matmul(A, B):\n",
        "  m = len(A)\n",
        "  n = len(A[0])\n",
        "  p = len(B)\n",
        "\n",
        "  output = []\n",
        "  for row in range(m):\n",
        "    output.append([])\n",
        "    for column in range(p):\n",
        "      output[row].append(0)\n",
        "\n",
        "  for i in range(m):\n",
        "    for j in range(p):\n",
        "      for k in range(n):\n",
        "        output[i][j] += A[i][k]*B[k][j]\n",
        "  return output\n",
        "\n",
        "def printM(matrix):\n",
        "  for row in matrix:\n",
        "    print(row)\n",
        "  return\n",
        "\n",
        "def equalM(A, B):\n",
        "  size = len(A)\n",
        "\n",
        "  equal = True\n",
        "  for i in range(size):\n",
        "    for j in range(size):\n",
        "      if A[i][j] != B[i][j]:\n",
        "        equal = False\n",
        "        break\n",
        "    if not equal:\n",
        "      break\n",
        "  return equal\n",
        "\n",
        "# 1. Definir las matrices de Pauli\n",
        "pauli0 = [[1,0],[0,1]]\n",
        "pauli1 = [[0,1],[1,0]]\n",
        "pauli2 = [[0,-1j],[1j,0]]\n",
        "pauli3 = [[1,0],[0,-1]]\n",
        "\n",
        "# 2. Hacer el producto tensorial $\\sigma_1\\otimes\\sigma_3$\n",
        "left = kronecker(pauli1, pauli3)\n",
        "printM(left)\n",
        "print()\n",
        "\n",
        "# 3. Hacer el producto tensorial $\\sigma_1\\otimes\\mathbb{1}$\n",
        "r1 = kronecker(pauli1, pauli0)\n",
        "printM(r1)\n",
        "print()\n",
        "\n",
        "# 4. Hacer el producto tensorial $\\mathbb{1}\\otimes\\sigma_3$\n",
        "r2 = kronecker(pauli0, pauli3)\n",
        "printM(r2)\n",
        "print()\n",
        "\n",
        "# 5. Hacer el producto matricial $(\\sigma_1\\otimes\\mathbb{1})(\\mathbb{1}\\otimes\\sigma_3)$\n",
        "right = matmul(r1, r2)\n",
        "printM(right)\n",
        "print()\n",
        "\n",
        "# 6. Comparar $\\sigma_1\\otimes\\sigma_3 = (\\sigma_1\\otimes\\mathbb{1})(\\mathbb{1}\\otimes\\sigma_3)$ y devolver un valor booleano\n",
        "equalM(left, right)"
      ],
      "execution_count": 73,
      "outputs": [
        {
          "output_type": "stream",
          "text": [
            "[0, 0, 1, 0]\n",
            "[0, 0, 0, -1]\n",
            "[1, 0, 0, 0]\n",
            "[0, -1, 0, 0]\n",
            "\n",
            "[0, 0, 1, 0]\n",
            "[0, 0, 0, 1]\n",
            "[1, 0, 0, 0]\n",
            "[0, 1, 0, 0]\n",
            "\n",
            "[1, 0, 0, 0]\n",
            "[0, -1, 0, 0]\n",
            "[0, 0, 1, 0]\n",
            "[0, 0, 0, -1]\n",
            "\n",
            "[0, 0, 1, 0]\n",
            "[0, 0, 0, -1]\n",
            "[1, 0, 0, 0]\n",
            "[0, -1, 0, 0]\n",
            "\n"
          ],
          "name": "stdout"
        },
        {
          "output_type": "execute_result",
          "data": {
            "text/plain": [
              "True"
            ]
          },
          "metadata": {
            "tags": []
          },
          "execution_count": 73
        }
      ]
    }
  ]
}